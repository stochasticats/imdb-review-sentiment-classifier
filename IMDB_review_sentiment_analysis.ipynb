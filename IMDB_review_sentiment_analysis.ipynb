{
  "nbformat": 4,
  "nbformat_minor": 0,
  "metadata": {
    "colab": {
      "name": "IMDB review sentiment analysis.ipynb",
      "provenance": [],
      "authorship_tag": "ABX9TyNuccwGEgCf55HGLvzbvUyn",
      "include_colab_link": true
    },
    "kernelspec": {
      "name": "python3",
      "display_name": "Python 3"
    }
  },
  "cells": [
    {
      "cell_type": "markdown",
      "metadata": {
        "id": "view-in-github",
        "colab_type": "text"
      },
      "source": [
        "<a href=\"https://colab.research.google.com/github/stochasticats/imdb-review-sentiment-classifier/blob/master/IMDB_review_sentiment_analysis.ipynb\" target=\"_parent\"><img src=\"https://colab.research.google.com/assets/colab-badge.svg\" alt=\"Open In Colab\"/></a>"
      ]
    },
    {
      "cell_type": "code",
      "metadata": {
        "id": "CE4TwEO1F14t",
        "colab_type": "code",
        "colab": {}
      },
      "source": [
        "import numpy as np\n",
        "import pandas as pd\n",
        "import tensorflow as tf\n",
        "import nltk\n",
        "import os\n",
        "import shutil\n",
        "import random"
      ],
      "execution_count": 6,
      "outputs": []
    },
    {
      "cell_type": "code",
      "metadata": {
        "id": "l75KctlEGDEZ",
        "colab_type": "code",
        "colab": {
          "base_uri": "https://localhost:8080/",
          "height": 219
        },
        "outputId": "89489620-462c-4ff6-d682-15393e20e3c5"
      },
      "source": [
        "!wget \"http://ai.stanford.edu/~amaas/data/sentiment/aclImdb_v1.tar.gz\""
      ],
      "execution_count": 2,
      "outputs": [
        {
          "output_type": "stream",
          "text": [
            "--2020-09-25 02:30:21--  http://ai.stanford.edu/~amaas/data/sentiment/aclImdb_v1.tar.gz\n",
            "Resolving ai.stanford.edu (ai.stanford.edu)... 171.64.68.10\n",
            "Connecting to ai.stanford.edu (ai.stanford.edu)|171.64.68.10|:80... connected.\n",
            "HTTP request sent, awaiting response... 200 OK\n",
            "Length: 84125825 (80M) [application/x-gzip]\n",
            "Saving to: ‘aclImdb_v1.tar.gz’\n",
            "\n",
            "aclImdb_v1.tar.gz   100%[===================>]  80.23M  19.1MB/s    in 9.3s    \n",
            "\n",
            "2020-09-25 02:30:31 (8.66 MB/s) - ‘aclImdb_v1.tar.gz’ saved [84125825/84125825]\n",
            "\n"
          ],
          "name": "stdout"
        }
      ]
    },
    {
      "cell_type": "code",
      "metadata": {
        "id": "lli9lmc2GOOu",
        "colab_type": "code",
        "colab": {}
      },
      "source": [
        "%%capture\n",
        "!tar -xvf \"/content/aclImdb_v1.tar.gz\""
      ],
      "execution_count": 3,
      "outputs": []
    },
    {
      "cell_type": "code",
      "metadata": {
        "id": "KrCatimRGRH1",
        "colab_type": "code",
        "colab": {}
      },
      "source": [
        "loc = '/content/aclImdb/train/pos'\n",
        "os.chdir(loc)\n",
        "filelist = os.listdir()\n",
        "reviews_pos = []\n",
        "for f in filelist:\n",
        "  with open (f, \"r\") as myfile:\n",
        "    review = myfile.read()\n",
        "    reviews_pos.append(review)"
      ],
      "execution_count": 7,
      "outputs": []
    },
    {
      "cell_type": "code",
      "metadata": {
        "id": "GkSott_-Gm9F",
        "colab_type": "code",
        "colab": {}
      },
      "source": [
        "loc = '/content/aclImdb/train/neg'\n",
        "os.chdir(loc)\n",
        "filelist = os.listdir()\n",
        "\n",
        "reviews_neg = []\n",
        "\n",
        "for f in filelist:\n",
        "  with open (f, \"r\") as myfile:\n",
        "    review = myfile.read()\n",
        "    reviews_neg.append(review)"
      ],
      "execution_count": 8,
      "outputs": []
    },
    {
      "cell_type": "code",
      "metadata": {
        "id": "LTxhKAVcGzHi",
        "colab_type": "code",
        "colab": {
          "base_uri": "https://localhost:8080/",
          "height": 54
        },
        "outputId": "12abda60-6509-437d-fc7a-902b2f1016bc"
      },
      "source": [
        "print(\"Number of positive reviews: \" + str(len(reviews_pos)))\n",
        "print(\"Number of negative reviews: \" + str(len(reviews_neg)))"
      ],
      "execution_count": 14,
      "outputs": [
        {
          "output_type": "stream",
          "text": [
            "Number of positive reviews: 12500\n",
            "Number of negative reviews: 12500\n"
          ],
          "name": "stdout"
        }
      ]
    },
    {
      "cell_type": "code",
      "metadata": {
        "id": "gKIACKXiG8Hc",
        "colab_type": "code",
        "colab": {
          "base_uri": "https://localhost:8080/",
          "height": 74
        },
        "outputId": "5acaac89-20b5-4ae6-c1d2-7c1b33bc8094"
      },
      "source": [
        "print(\"\\033[92m\" + reviews_pos[random.randint(0, 12500)])\n",
        "print(\"\\033[91m\" + reviews_neg[random.randint(0, 12500)])"
      ],
      "execution_count": 23,
      "outputs": [
        {
          "output_type": "stream",
          "text": [
            "\u001b[92mBased on the idea from Gackt, Moon Child took place in a poverty-stricken country called Mallepa. In a futuristic timeline, the story followed the lives of the two main characters, Kei (HYDE) and Sho (Gackt) and their friends growing up together.<br /><br />Despite some actions might be overly done or perhaps humorous, I strongly believed that this is a movie about friendship. Even amongst all the hardships between each character, in the end, each of them wanted to have someone on their side, to have friends.<br /><br />Unlike most vampire characters, Kei portrayed a vampire that loathed the idea of having to kill in order to live. A vampire found friendship in the hand of a young boy, Sho who's not afraid of Kei. Regardless of what some might've thought, I see Kei as a fatherly figure to Sho. Kei was there throughout the earlier life of Sho, he took care of him, and taught him to live in a world where power between gangs controls their lives. On the other hand, Sho who perhaps can be seen as an innocent enthusiastic style young man, he grew up to be a man who realised that life isn't all about fun and games, that death exists and able to take away his loved ones.<br /><br />I love the part where Lee Hom, the actor who played Son, first appeared on the screen. The way they met up was quite cool indeed. Son also has a big part within this movie, the fact that he's from a different race, a Taiwanese, made quite an impact to the friendship theme within the movie. The way how friendships were developed despite background differences was portrayed excellently in this movie.<br /><br />I believed that each actor did a great job considering that this was their first time to appear in such big screen movie. Both HYDE and Gackt managed to act quite well and created quite believable characters. Unlike movies that had musician turned actors and filled the movie with songs, they've done great acting jobs! Moon Child really made an impact for me, it has given friendships a new meaning and consideration, that we have to appreciate every friendship in our lifetimes. The movie shows a lot of hope, despite all the bad things that happen in their lives, that there's always hope. Life can be cruel, that it seems hope doesn't exist anymore. It also shows a very strong sense of friendships between each other, even when Son became the enemy, Sho did have some sort of \"fun\" at their last battle. Every single one of them desired peace in the end, no matter how far apart they've become. The ending scene showed it to us.\n",
            "\u001b[91m***SPOILERS*** With a gathering of family members and servants of the late Christopher Dean, John Carradine, to hear his last will and testament they get somewhat of a surprise in that the Dean fortune, some 140 million dollars. The money is to be divided between them but only after they successfully spend a week at the Dean mansion. There seemed to have been a mix-up in the story when we later find out that it's really an overnight sleepover, not a weeks vacation, at the mansion for the guests to qualify for Dean's money since almost everyone ends up dead by sunrise.<br /><br />The first victim of the Dean Curse have nothing at all to do with getting and money from the departed Christopher Dean estate the local sheriff Dan Garcia, Rodolfo Acosta. Acosta has his head chopped off refrigerated and then served on a platter to a shocked group of guests. Later that evening cute little Chin Greg and Laura's,Jeff Morrow & Marry Anders,little pet pooch is found dead outside floating in the pond.<br /><br />The movie has all the people staying at the Dean Mansion being picked off one by one until it's revealed who the killer really is. We then have what seems to be a double-twist in the story where the original killer is suddenly killed together with two of the last remaining guest. The real killer ends up not only getting all the loot, 140 million dollars, but then ends up not having to split it with his accomplice by doing him, or her, in by giving him a poisonous cookie that kills him on the spot.<br /><br />Nonsensical who done it, and haunted house, movie with a cast of such immoral and unlikable characters that even a mother, much less the audience, would have trouble liking. There's everything you can possibly think of in the move involving the selective guests that includes incest S&M sadism and of course double-dealing and back-stabbing not even counting murder. You just couldn't care less who of the guests survives to collect the Dean fortune at the end of the movie hoping against all hope then none of them do.<br /><br />Even the big surprise at the end isn't really that much of a surprise since the killer's identity is divulged with the film-maker having forgotten to keep his face in the shadows so you actual see who he is even before he reveals himself! We then have a plot-twist that eliminates the killer together with a number of remaining guest just to make the movie a little more confusing then it already is. The final plot-twist, that you can see coming from as far as ten miles away, was just to show how smart the very obvious killer was which fooled almost nobody watching the movie.\n"
          ],
          "name": "stdout"
        }
      ]
    },
    {
      "cell_type": "code",
      "metadata": {
        "id": "fD8DFeWKHi8X",
        "colab_type": "code",
        "colab": {
          "base_uri": "https://localhost:8080/",
          "height": 72
        },
        "outputId": "7c9a0d25-e01d-41e6-f39b-8e4c93159371"
      },
      "source": [
        "nltk.download('stopwords')"
      ],
      "execution_count": 19,
      "outputs": [
        {
          "output_type": "stream",
          "text": [
            "[nltk_data] Downloading package stopwords to /root/nltk_data...\n",
            "[nltk_data]   Unzipping corpora/stopwords.zip.\n"
          ],
          "name": "stdout"
        },
        {
          "output_type": "execute_result",
          "data": {
            "text/plain": [
              "True"
            ]
          },
          "metadata": {
            "tags": []
          },
          "execution_count": 19
        }
      ]
    },
    {
      "cell_type": "code",
      "metadata": {
        "id": "59PMUt81IJzo",
        "colab_type": "code",
        "colab": {}
      },
      "source": [
        "import re                                  # library for regular expression operations\n",
        "import string                              # for string operations\n",
        "\n",
        "from nltk.corpus import stopwords          # module for stop words that come with NLTK\n",
        "from nltk.stem import PorterStemmer        # module for stemming\n",
        "from nltk.tokenize import TweetTokenizer   # module for tokenizing strings\n",
        "from bs4 import BeautifulSoup"
      ],
      "execution_count": 27,
      "outputs": []
    },
    {
      "cell_type": "code",
      "metadata": {
        "id": "yzzM-vqYIOyx",
        "colab_type": "code",
        "colab": {
          "base_uri": "https://localhost:8080/",
          "height": 55
        },
        "outputId": "a7681ed6-0094-4ae1-c5b3-95f251df317e"
      },
      "source": [
        "test_review = reviews_pos[167]\n",
        "print(test_review)"
      ],
      "execution_count": 33,
      "outputs": [
        {
          "output_type": "stream",
          "text": [
            "An intriguingly bold film weaves the seemingly effortless camerawork with some superb casting and an explosive soundtrack to plot the damaging effects of the crime and corruption of the Santiago underworld on 2 naive young brothers from the southern city of Temuco.<br /><br />Film debutant Daniella Rios is the seductive erotic dancer Gracia, working in the nightclub owned by the face of the new mini-wave in Chilean film production, Alejandro Trejo. The elder brother, played maturely by Nestor Cantillana, is easily convinced to become Trejo's lead henchman, after a night at the stripclub to celebrate younger brother Victor's (Juan Pablo Miranda) seventeenth birthday. From the establishing shot of this opening scene, the film explodes into neo-noir exploration of everything the outside world doesn't usually expect to see in this country so stereotypically conservative and catholic.<br /><br />Gracia's charms of seduction attract the three men like bees to honey, although the circular narrative of the three-way fantasy romance revolves around the linear portrayal of major international drug deals between Trejo's men and the 'Gringo', Eduardo Barril. Power relations become a vital theme, as society's outsiders merge in a mini-family. The prostitute holds an exotic spell over all the chilean men in the film, emerging from her ambiguous position in the periphery of society, and is seen as holding the key to all three men's futures. The relationships between Trejo and Cantillana become important, as the boys' parents are conspicious by their absence (one assumes they still live in Temuco). Therefore it is Trejo, el padrino, who 'adopts' Cantillana, and effectively 'makes him' as a man in the city. Miranda rapidly becomes the desperate outsider, as his dependency on his 'father figure', Cantillana, becomes increasingly strained by jealousy over the beautiful Gracia. However, Miranda remains trapped by the constraint of still being in school - he is dependent on Cantillana, who is dependent on Trejo, for the money to survive. Trejo, in turn, is under the thumb of the 'Gringo', and his wealth has been accumulated through drug deals and well as his strip clubs. The figure of Gracia acts as a time bomb viewed as a beautiful firework, she wraps a web of beauty inside the patriarchy but the strain can only lead to one climax.<br /><br />As the tensions of these power relations come to head, Gracia remains ambiguously elusive. The viewer is never sure which male figure she will commit to. The film concludes tragically and explosively in a shoot out which realigns power relations and erases half the major male protanganists. The final shot of Miranda's beaten face speeding down the PanAmericano highway is despairingly powerful. The boy has been sucked in by the lure of the city's underworld, yet has lost his only visible family, and his woman, who is his only friend in the film. He has nothing. The overriding metaphors are bold and brave. This is a gangster film in Chile. The notions of family, no sex before marriage etc, are abolished, and instead the harsh realities of the other side of Santiago's coin are displayed in all their savage glory. Trejo beats Rios brutally, Rios and Miranda make love in a cinema reel room - a whore having sex with a minor she barely knows. The 'gringos' are seen to have a financial hold over this small Latin American nation, but not through the copper mines, through the illegal path of drugs.<br /><br />Waissbluth's triumph is in his presentation of this dark underworld, which raises so many social questions, more perhaps than the record-breakingly successful Sexo Con Amor, within a slick, smooth firecracker of a film, which place this film firmly alongside Sexo Con Amor, Taxi Para Tres, and El chacotero Sentimental, as cinematic evidence that Chile is well and truly artistically alive and kicking in the post-transition period 15 years after the censorship of the Military Regime.\n"
          ],
          "name": "stdout"
        }
      ]
    },
    {
      "cell_type": "code",
      "metadata": {
        "id": "-LSOajN8JG3G",
        "colab_type": "code",
        "colab": {}
      },
      "source": [
        "test_review2 = re.sub('<br /><br />', ' ', test_review)"
      ],
      "execution_count": 34,
      "outputs": []
    },
    {
      "cell_type": "code",
      "metadata": {
        "id": "XHQFmfWiKKQi",
        "colab_type": "code",
        "colab": {
          "base_uri": "https://localhost:8080/",
          "height": 55
        },
        "outputId": "caa41b78-88f0-4d31-e473-85ab973c6de8"
      },
      "source": [
        "print(test_review2)"
      ],
      "execution_count": 35,
      "outputs": [
        {
          "output_type": "stream",
          "text": [
            "An intriguingly bold film weaves the seemingly effortless camerawork with some superb casting and an explosive soundtrack to plot the damaging effects of the crime and corruption of the Santiago underworld on 2 naive young brothers from the southern city of Temuco. Film debutant Daniella Rios is the seductive erotic dancer Gracia, working in the nightclub owned by the face of the new mini-wave in Chilean film production, Alejandro Trejo. The elder brother, played maturely by Nestor Cantillana, is easily convinced to become Trejo's lead henchman, after a night at the stripclub to celebrate younger brother Victor's (Juan Pablo Miranda) seventeenth birthday. From the establishing shot of this opening scene, the film explodes into neo-noir exploration of everything the outside world doesn't usually expect to see in this country so stereotypically conservative and catholic. Gracia's charms of seduction attract the three men like bees to honey, although the circular narrative of the three-way fantasy romance revolves around the linear portrayal of major international drug deals between Trejo's men and the 'Gringo', Eduardo Barril. Power relations become a vital theme, as society's outsiders merge in a mini-family. The prostitute holds an exotic spell over all the chilean men in the film, emerging from her ambiguous position in the periphery of society, and is seen as holding the key to all three men's futures. The relationships between Trejo and Cantillana become important, as the boys' parents are conspicious by their absence (one assumes they still live in Temuco). Therefore it is Trejo, el padrino, who 'adopts' Cantillana, and effectively 'makes him' as a man in the city. Miranda rapidly becomes the desperate outsider, as his dependency on his 'father figure', Cantillana, becomes increasingly strained by jealousy over the beautiful Gracia. However, Miranda remains trapped by the constraint of still being in school - he is dependent on Cantillana, who is dependent on Trejo, for the money to survive. Trejo, in turn, is under the thumb of the 'Gringo', and his wealth has been accumulated through drug deals and well as his strip clubs. The figure of Gracia acts as a time bomb viewed as a beautiful firework, she wraps a web of beauty inside the patriarchy but the strain can only lead to one climax. As the tensions of these power relations come to head, Gracia remains ambiguously elusive. The viewer is never sure which male figure she will commit to. The film concludes tragically and explosively in a shoot out which realigns power relations and erases half the major male protanganists. The final shot of Miranda's beaten face speeding down the PanAmericano highway is despairingly powerful. The boy has been sucked in by the lure of the city's underworld, yet has lost his only visible family, and his woman, who is his only friend in the film. He has nothing. The overriding metaphors are bold and brave. This is a gangster film in Chile. The notions of family, no sex before marriage etc, are abolished, and instead the harsh realities of the other side of Santiago's coin are displayed in all their savage glory. Trejo beats Rios brutally, Rios and Miranda make love in a cinema reel room - a whore having sex with a minor she barely knows. The 'gringos' are seen to have a financial hold over this small Latin American nation, but not through the copper mines, through the illegal path of drugs. Waissbluth's triumph is in his presentation of this dark underworld, which raises so many social questions, more perhaps than the record-breakingly successful Sexo Con Amor, within a slick, smooth firecracker of a film, which place this film firmly alongside Sexo Con Amor, Taxi Para Tres, and El chacotero Sentimental, as cinematic evidence that Chile is well and truly artistically alive and kicking in the post-transition period 15 years after the censorship of the Military Regime.\n"
          ],
          "name": "stdout"
        }
      ]
    },
    {
      "cell_type": "code",
      "metadata": {
        "id": "6ZI4zkUWLjcr",
        "colab_type": "code",
        "colab": {}
      },
      "source": [
        ""
      ],
      "execution_count": null,
      "outputs": []
    }
  ]
}