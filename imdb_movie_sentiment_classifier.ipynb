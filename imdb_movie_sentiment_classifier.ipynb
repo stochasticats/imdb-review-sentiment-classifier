{
  "nbformat": 4,
  "nbformat_minor": 0,
  "metadata": {
    "colab": {
      "name": "imdb_movie_sentiment_classifier.ipynb",
      "provenance": [],
      "collapsed_sections": [],
      "mount_file_id": "1ZWxtz6JKvzQhFH0H6fTpWstkyG64EGlU",
      "authorship_tag": "ABX9TyO4lb7sX+RqmXW74cMbVNZC",
      "include_colab_link": true
    },
    "kernelspec": {
      "name": "python3",
      "display_name": "Python 3"
    },
    "accelerator": "GPU"
  },
  "cells": [
    {
      "cell_type": "markdown",
      "metadata": {
        "id": "view-in-github",
        "colab_type": "text"
      },
      "source": [
        "<a href=\"https://colab.research.google.com/github/stochasticats/imdb-review-sentiment-classifier/blob/master/imdb_movie_sentiment_classifier.ipynb\" target=\"_parent\"><img src=\"https://colab.research.google.com/assets/colab-badge.svg\" alt=\"Open In Colab\"/></a>"
      ]
    },
    {
      "cell_type": "markdown",
      "metadata": {
        "id": "u848e4r3yGzx",
        "colab_type": "text"
      },
      "source": [
        "# IMDb Movie Review Sentiment Classification\n",
        "This Google colab notebook is for developing a deep learning model to classify movie reviews as positive or negative using the data set provided here http://ai.stanford.edu/~amaas/data/sentiment/\n",
        "\n",
        "First we establish the libraries to be used."
      ]
    },
    {
      "cell_type": "code",
      "metadata": {
        "id": "AXTjalB6kRNX",
        "colab_type": "code",
        "outputId": "4a3a91b1-423d-465a-f442-c16e71c53ee1",
        "colab": {
          "base_uri": "https://localhost:8080/",
          "height": 35
        }
      },
      "source": [
        "import numpy as np\n",
        "import pandas as pd\n",
        "import tensorflow as tf\n",
        "print(tf.__version__)\n",
        "import os\n",
        "import shutil\n",
        "import matplotlib.pyplot as plt\n",
        "import random\n",
        "from tensorflow.keras.preprocessing.text import Tokenizer\n",
        "from tensorflow.keras.preprocessing.sequence import pad_sequences"
      ],
      "execution_count": 1,
      "outputs": [
        {
          "output_type": "stream",
          "text": [
            "2.2.0\n"
          ],
          "name": "stdout"
        }
      ]
    },
    {
      "cell_type": "markdown",
      "metadata": {
        "id": "pXHMhP8ByFRW",
        "colab_type": "text"
      },
      "source": [
        "First download the zipped data from ai.stanford"
      ]
    },
    {
      "cell_type": "code",
      "metadata": {
        "id": "47qGhpxglceY",
        "colab_type": "code",
        "outputId": "daa7d018-c1b6-459a-af8f-618d76beda68",
        "colab": {
          "base_uri": "https://localhost:8080/",
          "height": 219
        }
      },
      "source": [
        "!wget \"http://ai.stanford.edu/~amaas/data/sentiment/aclImdb_v1.tar.gz\""
      ],
      "execution_count": 3,
      "outputs": [
        {
          "output_type": "stream",
          "text": [
            "--2020-06-01 12:59:24--  http://ai.stanford.edu/~amaas/data/sentiment/aclImdb_v1.tar.gz\n",
            "Resolving ai.stanford.edu (ai.stanford.edu)... 171.64.68.10\n",
            "Connecting to ai.stanford.edu (ai.stanford.edu)|171.64.68.10|:80... connected.\n",
            "HTTP request sent, awaiting response... 200 OK\n",
            "Length: 84125825 (80M) [application/x-gzip]\n",
            "Saving to: ‘aclImdb_v1.tar.gz’\n",
            "\n",
            "aclImdb_v1.tar.gz   100%[===================>]  80.23M  19.1MB/s    in 7.1s    \n",
            "\n",
            "2020-06-01 12:59:32 (11.3 MB/s) - ‘aclImdb_v1.tar.gz’ saved [84125825/84125825]\n",
            "\n"
          ],
          "name": "stdout"
        }
      ]
    },
    {
      "cell_type": "code",
      "metadata": {
        "id": "pqKBxqhwpvHp",
        "colab_type": "code",
        "colab": {}
      },
      "source": [
        "%%capture\n",
        "!tar -xvf \"/content/aclImdb_v1.tar.gz\""
      ],
      "execution_count": 0,
      "outputs": []
    },
    {
      "cell_type": "markdown",
      "metadata": {
        "id": "qKstJX53zU_o",
        "colab_type": "text"
      },
      "source": [
        "Here I establish stopwords, these are words that will add no meaning to the reviews and will be removed."
      ]
    },
    {
      "cell_type": "code",
      "metadata": {
        "id": "rjSHgttdqPw6",
        "colab_type": "code",
        "colab": {}
      },
      "source": [
        "stopwords = [\"a\", \"about\", \"above\", \"after\", \"again\", \"against\", \"all\", \"am\", \"an\", \"and\", \"any\", \"are\", \"as\", \"at\", \"be\", \"because\", \"been\", \"before\", \"being\", \"below\", \"between\", \"both\", \"but\", \"by\", \"could\", \"did\", \"do\", \"does\", \"doing\", \"down\", \"during\", \"each\", \"few\", \"for\", \"from\", \"further\", \"had\", \"has\", \"have\", \"having\", \"he\", \"he'd\", \"he'll\", \"he's\", \"her\", \"here\", \"here's\", \"hers\", \"herself\", \"him\", \"himself\", \"his\", \"how\", \"how's\", \"i\", \"i'd\", \"i'll\", \"i'm\", \"i've\", \"if\", \"in\", \"into\", \"is\", \"it\", \"it's\", \"its\", \"itself\", \"let's\", \"me\", \"more\", \"most\", \"my\", \"myself\", \"nor\", \"of\", \"on\", \"once\", \"only\", \"or\", \"other\", \"ought\", \"our\", \"ours\", \"ourselves\", \"out\", \"over\", \"own\", \"same\", \"she\", \"she'd\", \"she'll\", \"she's\", \"should\", \"so\", \"some\", \"such\", \"than\", \"that\", \"that's\", \"the\", \"their\", \"theirs\", \"them\", \"themselves\", \"then\", \"there\", \"there's\", \"these\", \"they\", \"they'd\", \"they'll\", \"they're\", \"they've\", \"this\", \"those\", \"through\", \"to\", \"too\", \"under\", \"until\", \"up\", \"very\", \"was\", \"we\", \"we'd\", \"we'll\", \"we're\", \"we've\", \"were\", \"what\", \"what's\", \"when\", \"when's\", \"where\", \"where's\", \"which\", \"while\", \"who\", \"who's\", \"whom\", \"why\", \"why's\", \"with\", \"would\", \"you\", \"you'd\", \"you'll\", \"you're\", \"you've\", \"your\", \"yours\", \"yourself\", \"yourselves\" ]"
      ],
      "execution_count": 0,
      "outputs": []
    },
    {
      "cell_type": "markdown",
      "metadata": {
        "id": "J2ErydAP1F4o",
        "colab_type": "text"
      },
      "source": [
        "# Load Data and Data Preprocessing\n",
        "\n",
        "Let's load the training data, which is conveniently in two folders based on the sentiment classification."
      ]
    },
    {
      "cell_type": "code",
      "metadata": {
        "id": "l2M45Oikqv7f",
        "colab_type": "code",
        "colab": {}
      },
      "source": [
        "loc = '/content/aclImdb/train/pos'\n",
        "os.chdir(loc)\n",
        "filelist = os.listdir()\n",
        "\n",
        "reviews_pos = []\n",
        "labels_pos = []\n",
        "\n",
        "for f in filelist:\n",
        "  with open (f, \"r\") as myfile:\n",
        "    labels_pos.append(1)\n",
        "    review = myfile.read()\n",
        "    for word in stopwords:\n",
        "            token = \" \" + word + \" \"\n",
        "            review = review.replace(token, \" \")\n",
        "            review = review.replace(\"  \", \" \")\n",
        "    reviews_pos.append(review)\n",
        "\n",
        "loc = '/content/aclImdb/train/neg'\n",
        "os.chdir(loc)\n",
        "filelist = os.listdir()\n",
        "\n",
        "reviews_neg = []\n",
        "labels_neg = []\n",
        "\n",
        "for f in filelist:\n",
        "  with open (f, \"r\") as myfile:\n",
        "    labels_neg.append(0)\n",
        "    review = myfile.read()\n",
        "    for word in stopwords:\n",
        "            token = \" \" + word + \" \"\n",
        "            review = review.replace(token, \" \")\n",
        "            review = review.replace(\"  \", \" \")\n",
        "    reviews_neg.append(review)"
      ],
      "execution_count": 0,
      "outputs": []
    },
    {
      "cell_type": "code",
      "metadata": {
        "id": "UGmYhQPzrzyt",
        "colab_type": "code",
        "outputId": "c24e69d0-874d-4745-fdf4-21dadac0df09",
        "colab": {
          "base_uri": "https://localhost:8080/",
          "height": 257
        }
      },
      "source": [
        "randn = random.randint(0,len(reviews_pos))\n",
        "\n",
        "print(\"Length of reviews that are positive:\")\n",
        "print(len(reviews_pos))\n",
        "print(\"Example of a positive review:\")\n",
        "print(reviews_pos[randn])\n",
        "print(\"The label:\")\n",
        "print(labels_pos[randn])\n",
        "print(\"Length of reviews that are negative:\")\n",
        "print(len(reviews_neg))\n",
        "print(\"Example of a negative review:\")\n",
        "print(reviews_neg[randn])\n",
        "print(\"The label:\")\n",
        "print(labels_neg[randn])"
      ],
      "execution_count": 8,
      "outputs": [
        {
          "output_type": "stream",
          "text": [
            "Length of reviews that are positive:\n",
            "12500\n",
            "Example of a positive review:\n",
            "Bo Derek's beauty John Derek's revolutionary direction make film worthwhile. <br /><br />Bo, looking gorgeous ever, recently widowed woman experiencing visitations 'dead' husband (Anthony Quinn). He plan. Bo must procure body young man ghost husband can make transformation spectre back corporeal life. Can find fitting candidate? How will Tony can thing? <br /><br />With Bo's attributes, John's unique direction, Quinn's film presence, and, thanks John, pretty exotic look entire film, movie pleasant viewing.\n",
            "The label:\n",
            "1\n",
            "Length of reviews that are negative:\n",
            "12500\n",
            "Example of a negative review:\n",
            "Oh god, horrible, horrible film. Meant comment state society, just reflection worst worst reality TV. Interstitials hosted Jason Jones Don McKellar obnoxious part, written tone perhaps meant reflexive insightful. Rather, moments mind numbing speak camera dialogue written someone love insulting, condescending speech shoves \"meaning\" film viewer's throat.<br /><br />Also, point would-be filmmakers: Long takes quiet scenes not equal art. Neither extreme angles logic stretched point absurdity.<br /><br />If anyone interested watching film, please don't. Seriously. Please. You better things do.\n",
            "The label:\n",
            "0\n"
          ],
          "name": "stdout"
        }
      ]
    },
    {
      "cell_type": "markdown",
      "metadata": {
        "id": "1cggsVMe00AU",
        "colab_type": "text"
      },
      "source": [
        "We have 25,000 reviews in total, 12,500 positive and 12,500 negative. As we can see, our reviews need some processing for the deep learning model.  We need to take out the digits and special characters.\n",
        "\n",
        "Here's a function to use to process the data."
      ]
    },
    {
      "cell_type": "code",
      "metadata": {
        "id": "3-ttH0fPvh5e",
        "colab_type": "code",
        "colab": {}
      },
      "source": [
        "import spacy\n",
        "import re,string,unicodedata\n",
        "\n",
        "def preprocess(text):\n",
        "    text = re.sub('<[^>]*>', '',text)\n",
        "    emoticons = re.findall('(?::|;|=)(?:-)?(?:\\)|\\(|D|P)', text)\n",
        "    text=re.sub('[\\W]+',' ',text.lower()) +\\\n",
        "       ' '.join(emoticons).replace('-','')  \n",
        "    return text"
      ],
      "execution_count": 0,
      "outputs": []
    },
    {
      "cell_type": "code",
      "metadata": {
        "id": "9ZUZ8RKJ1_u7",
        "colab_type": "code",
        "colab": {}
      },
      "source": [
        "reviews = reviews_pos + reviews_neg\n",
        "labels = labels_pos + labels_neg"
      ],
      "execution_count": 0,
      "outputs": []
    },
    {
      "cell_type": "code",
      "metadata": {
        "id": "zqARNGomxfJX",
        "colab_type": "code",
        "colab": {}
      },
      "source": [
        "denoised_reviews = []\n",
        "\n",
        "for review in reviews:\n",
        "  denoised_reviews.append(preprocess(review))"
      ],
      "execution_count": 0,
      "outputs": []
    },
    {
      "cell_type": "markdown",
      "metadata": {
        "id": "iOtZ2V3JDzrM",
        "colab_type": "text"
      },
      "source": [
        "Let's put it into a single data frame and take a look."
      ]
    },
    {
      "cell_type": "code",
      "metadata": {
        "id": "wTWHcQf43jBQ",
        "colab_type": "code",
        "colab": {}
      },
      "source": [
        "dataframe = pd.DataFrame(\n",
        "    {'reviews': denoised_reviews,\n",
        "     'labels': labels,\n",
        "    })\n",
        "from sklearn.utils import shuffle\n",
        "dataframe = shuffle(dataframe).reset_index(drop=True)"
      ],
      "execution_count": 0,
      "outputs": []
    },
    {
      "cell_type": "code",
      "metadata": {
        "id": "nOra71A34Pr-",
        "colab_type": "code",
        "outputId": "b12bed99-6973-47af-fb70-8657f8ed2942",
        "colab": {
          "base_uri": "https://localhost:8080/",
          "height": 677
        }
      },
      "source": [
        "dataframe.head(20)"
      ],
      "execution_count": 13,
      "outputs": [
        {
          "output_type": "execute_result",
          "data": {
            "text/html": [
              "<div>\n",
              "<style scoped>\n",
              "    .dataframe tbody tr th:only-of-type {\n",
              "        vertical-align: middle;\n",
              "    }\n",
              "\n",
              "    .dataframe tbody tr th {\n",
              "        vertical-align: top;\n",
              "    }\n",
              "\n",
              "    .dataframe thead th {\n",
              "        text-align: right;\n",
              "    }\n",
              "</style>\n",
              "<table border=\"1\" class=\"dataframe\">\n",
              "  <thead>\n",
              "    <tr style=\"text-align: right;\">\n",
              "      <th></th>\n",
              "      <th>reviews</th>\n",
              "      <th>labels</th>\n",
              "    </tr>\n",
              "  </thead>\n",
              "  <tbody>\n",
              "    <tr>\n",
              "      <th>0</th>\n",
              "      <td>los angeles tv news reporter jennifer the beau...</td>\n",
              "      <td>1</td>\n",
              "    </tr>\n",
              "    <tr>\n",
              "      <th>1</th>\n",
              "      <td>the title sequence shows credits written rain ...</td>\n",
              "      <td>1</td>\n",
              "    </tr>\n",
              "    <tr>\n",
              "      <th>2</th>\n",
              "      <td>the matador strange film its main character ju...</td>\n",
              "      <td>1</td>\n",
              "    </tr>\n",
              "    <tr>\n",
              "      <th>3</th>\n",
              "      <td>i really wanted like movie location shots most...</td>\n",
              "      <td>0</td>\n",
              "    </tr>\n",
              "    <tr>\n",
              "      <th>4</th>\n",
              "      <td>i m idea grand epic american revolutionary war...</td>\n",
              "      <td>0</td>\n",
              "    </tr>\n",
              "    <tr>\n",
              "      <th>5</th>\n",
              "      <td>despite rather salacious title light teen dram...</td>\n",
              "      <td>1</td>\n",
              "    </tr>\n",
              "    <tr>\n",
              "      <th>6</th>\n",
              "      <td>i heard movie watching vh1 s 100 most metal mo...</td>\n",
              "      <td>1</td>\n",
              "    </tr>\n",
              "    <tr>\n",
              "      <th>7</th>\n",
              "      <td>between 1937 1939 twentieth century fox made t...</td>\n",
              "      <td>0</td>\n",
              "    </tr>\n",
              "    <tr>\n",
              "      <th>8</th>\n",
              "      <td>the word 1st title ominous meaning viewers fil...</td>\n",
              "      <td>0</td>\n",
              "    </tr>\n",
              "    <tr>\n",
              "      <th>9</th>\n",
              "      <td>an unusually straight faced actioner played ca...</td>\n",
              "      <td>1</td>\n",
              "    </tr>\n",
              "    <tr>\n",
              "      <th>10</th>\n",
              "      <td>we re long way laura once otto preminger direc...</td>\n",
              "      <td>1</td>\n",
              "    </tr>\n",
              "    <tr>\n",
              "      <th>11</th>\n",
              "      <td>antwone fisher s story childhood neglect abuse...</td>\n",
              "      <td>1</td>\n",
              "    </tr>\n",
              "    <tr>\n",
              "      <th>12</th>\n",
              "      <td>it seems like film john saxon ever directed go...</td>\n",
              "      <td>0</td>\n",
              "    </tr>\n",
              "    <tr>\n",
              "      <th>13</th>\n",
              "      <td>happened upon copy this not mine i spent money...</td>\n",
              "      <td>0</td>\n",
              "    </tr>\n",
              "    <tr>\n",
              "      <th>14</th>\n",
              "      <td>this musical adaptation dicken s oliver twist ...</td>\n",
              "      <td>1</td>\n",
              "    </tr>\n",
              "    <tr>\n",
              "      <th>15</th>\n",
              "      <td>despite comments listed here probably best dir...</td>\n",
              "      <td>1</td>\n",
              "    </tr>\n",
              "    <tr>\n",
              "      <th>16</th>\n",
              "      <td>this one films interesting watch academic pers...</td>\n",
              "      <td>0</td>\n",
              "    </tr>\n",
              "    <tr>\n",
              "      <th>17</th>\n",
              "      <td>william shakespeare proud particular version p...</td>\n",
              "      <td>1</td>\n",
              "    </tr>\n",
              "    <tr>\n",
              "      <th>18</th>\n",
              "      <td>after 30 seconds already realize no real budge...</td>\n",
              "      <td>0</td>\n",
              "    </tr>\n",
              "    <tr>\n",
              "      <th>19</th>\n",
              "      <td>i open foreign films like think i grasp trying...</td>\n",
              "      <td>0</td>\n",
              "    </tr>\n",
              "  </tbody>\n",
              "</table>\n",
              "</div>"
            ],
            "text/plain": [
              "                                              reviews  labels\n",
              "0   los angeles tv news reporter jennifer the beau...       1\n",
              "1   the title sequence shows credits written rain ...       1\n",
              "2   the matador strange film its main character ju...       1\n",
              "3   i really wanted like movie location shots most...       0\n",
              "4   i m idea grand epic american revolutionary war...       0\n",
              "5   despite rather salacious title light teen dram...       1\n",
              "6   i heard movie watching vh1 s 100 most metal mo...       1\n",
              "7   between 1937 1939 twentieth century fox made t...       0\n",
              "8   the word 1st title ominous meaning viewers fil...       0\n",
              "9   an unusually straight faced actioner played ca...       1\n",
              "10  we re long way laura once otto preminger direc...       1\n",
              "11  antwone fisher s story childhood neglect abuse...       1\n",
              "12  it seems like film john saxon ever directed go...       0\n",
              "13  happened upon copy this not mine i spent money...       0\n",
              "14  this musical adaptation dicken s oliver twist ...       1\n",
              "15  despite comments listed here probably best dir...       1\n",
              "16  this one films interesting watch academic pers...       0\n",
              "17  william shakespeare proud particular version p...       1\n",
              "18  after 30 seconds already realize no real budge...       0\n",
              "19  i open foreign films like think i grasp trying...       0"
            ]
          },
          "metadata": {
            "tags": []
          },
          "execution_count": 13
        }
      ]
    },
    {
      "cell_type": "markdown",
      "metadata": {
        "id": "d9Q-5E-LD4Lg",
        "colab_type": "text"
      },
      "source": [
        "Let's take a look at the distribution of review length."
      ]
    },
    {
      "cell_type": "code",
      "metadata": {
        "id": "Lv7sSyZGEeyK",
        "colab_type": "code",
        "outputId": "6e334487-b368-4d2f-8397-ba054f9714ec",
        "colab": {
          "base_uri": "https://localhost:8080/",
          "height": 404
        }
      },
      "source": [
        "plt.figure(figsize=(10, 6))\n",
        "plt.hist([len(review) for review in dataframe['reviews']], 50)\n",
        "plt.xlabel('Length of reviews')\n",
        "plt.ylabel('Number of reviews')\n",
        "plt.title('Review length distribution')\n",
        "plt.show()"
      ],
      "execution_count": 14,
      "outputs": [
        {
          "output_type": "display_data",
          "data": {
            "image/png": "[encoded data removed]",
            "text/plain": [
              "<Figure size 720x432 with 1 Axes>"
            ]
          },
          "metadata": {
            "tags": [],
            "needs_background": "light"
          }
        }
      ]
    },
    {
      "cell_type": "markdown",
      "metadata": {
        "id": "E4mmyMzJEpL3",
        "colab_type": "text"
      },
      "source": [
        "There seems to be a peak at around length ~1000, meaning there's a lot of reviews with length ~1000. "
      ]
    },
    {
      "cell_type": "code",
      "metadata": {
        "id": "Buy9xXcV4s8D",
        "colab_type": "code",
        "colab": {}
      },
      "source": [
        "vocab_size = 2500\n",
        "embedding_dim = 64\n",
        "max_length = 1500\n",
        "trunc_type='post'\n",
        "padding_type='post'\n",
        "oov_tok = \"<OOV>\""
      ],
      "execution_count": 0,
      "outputs": []
    },
    {
      "cell_type": "code",
      "metadata": {
        "id": "qkjY0MM64UpE",
        "colab_type": "code",
        "colab": {}
      },
      "source": [
        "from sklearn.model_selection import train_test_split\n",
        "X_train, X_valid, y_train, y_valid = train_test_split(dataframe['reviews'], dataframe['labels'], test_size=0.2, random_state=42)"
      ],
      "execution_count": 0,
      "outputs": []
    },
    {
      "cell_type": "code",
      "metadata": {
        "id": "LBZe1mPn6i3a",
        "colab_type": "code",
        "outputId": "fa3fbd82-f9eb-4870-a112-f4915c3c60af",
        "colab": {
          "base_uri": "https://localhost:8080/",
          "height": 90
        }
      },
      "source": [
        "print(len(X_train))\n",
        "print(len(y_train))\n",
        "print(len(X_valid))\n",
        "print(len(y_valid))"
      ],
      "execution_count": 18,
      "outputs": [
        {
          "output_type": "stream",
          "text": [
            "20000\n",
            "20000\n",
            "5000\n",
            "5000\n"
          ],
          "name": "stdout"
        }
      ]
    },
    {
      "cell_type": "code",
      "metadata": {
        "id": "L1Bquxg66mx9",
        "colab_type": "code",
        "outputId": "be77fe0e-8b2c-4683-bb6b-2d78833454e4",
        "colab": {
          "base_uri": "https://localhost:8080/",
          "height": 127
        }
      },
      "source": [
        "tokenizer = Tokenizer(num_words = vocab_size, oov_token=oov_tok)\n",
        "tokenizer.fit_on_texts(X_train)\n",
        "word_index = tokenizer.word_index\n",
        "\n",
        "X_train_seqs = tokenizer.texts_to_sequences(X_train)\n",
        "X_train_padded = pad_sequences(X_train_seqs, padding=padding_type, maxlen=max_length)\n",
        "\n",
        "print(len(X_train_seqs[0]))\n",
        "print(len(X_train_padded[0]))\n",
        "\n",
        "print(len(X_train_seqs[600]))\n",
        "print(len(X_train_padded[600]))\n",
        "\n",
        "print(len(X_train_seqs[10000]))\n",
        "print(len(X_train_padded[10000]))"
      ],
      "execution_count": 19,
      "outputs": [
        {
          "output_type": "stream",
          "text": [
            "281\n",
            "1500\n",
            "96\n",
            "1500\n",
            "130\n",
            "1500\n"
          ],
          "name": "stdout"
        }
      ]
    },
    {
      "cell_type": "code",
      "metadata": {
        "id": "13jNasaq6qRq",
        "colab_type": "code",
        "outputId": "8b4bfab0-0d85-4903-aa8e-83f644367035",
        "colab": {
          "base_uri": "https://localhost:8080/",
          "height": 54
        }
      },
      "source": [
        "X_valid_seqs = tokenizer.texts_to_sequences(X_valid)\n",
        "X_valid_padded = pad_sequences(X_valid_seqs, padding=padding_type, maxlen=max_length)\n",
        "\n",
        "print(len(X_valid_seqs))\n",
        "print(X_valid_padded.shape)"
      ],
      "execution_count": 20,
      "outputs": [
        {
          "output_type": "stream",
          "text": [
            "5000\n",
            "(5000, 1500)\n"
          ],
          "name": "stdout"
        }
      ]
    },
    {
      "cell_type": "markdown",
      "metadata": {
        "id": "eWgDHL_j7ohQ",
        "colab_type": "text"
      },
      "source": [
        "# Deep Learning Model\n",
        "\n",
        "Here I build the deep learning model. \n",
        "\n",
        "First we start with an embedding layer so that the network learns the embedding space our vocabulary lives in. Words or phrases are mapped to vectors of real numbers. The embedding layer is a dimensionality reduction technique used to take the size of vocabulary to a vector space with much lower dimension.\n",
        "\n",
        "Then the data is fed into dense layers."
      ]
    },
    {
      "cell_type": "code",
      "metadata": {
        "id": "n2Dq_wSV61zO",
        "colab_type": "code",
        "outputId": "db0ef188-78c9-4029-e8df-e20b438c7219",
        "colab": {
          "base_uri": "https://localhost:8080/",
          "height": 495
        }
      },
      "source": [
        "model = tf.keras.Sequential([\n",
        "    tf.keras.layers.Embedding(vocab_size, embedding_dim, input_length=max_length),\n",
        "    tf.keras.layers.GlobalAveragePooling1D(),\n",
        "    #tf.keras.layers.Flatten(),\n",
        "    tf.keras.layers.Dropout(0.3),\n",
        "    tf.keras.layers.Dense(32, activation='relu'),\n",
        "    tf.keras.layers.Dropout(0.3),\n",
        "    tf.keras.layers.Dense(24, activation='relu'),\n",
        "    tf.keras.layers.Dropout(0.3),\n",
        "    tf.keras.layers.Dense(12, activation='relu'),\n",
        "    tf.keras.layers.Dense(1, activation='sigmoid')\n",
        "])\n",
        "model.compile(loss=\"binary_crossentropy\",optimizer='adam',metrics=['accuracy'])\n",
        "model.summary()"
      ],
      "execution_count": 43,
      "outputs": [
        {
          "output_type": "stream",
          "text": [
            "Model: \"sequential_4\"\n",
            "_________________________________________________________________\n",
            "Layer (type)                 Output Shape              Param #   \n",
            "=================================================================\n",
            "embedding_4 (Embedding)      (None, 1500, 64)          160000    \n",
            "_________________________________________________________________\n",
            "global_average_pooling1d_4 ( (None, 64)                0         \n",
            "_________________________________________________________________\n",
            "dropout_8 (Dropout)          (None, 64)                0         \n",
            "_________________________________________________________________\n",
            "dense_12 (Dense)             (None, 32)                2080      \n",
            "_________________________________________________________________\n",
            "dropout_9 (Dropout)          (None, 32)                0         \n",
            "_________________________________________________________________\n",
            "dense_13 (Dense)             (None, 24)                792       \n",
            "_________________________________________________________________\n",
            "dropout_10 (Dropout)         (None, 24)                0         \n",
            "_________________________________________________________________\n",
            "dense_14 (Dense)             (None, 12)                300       \n",
            "_________________________________________________________________\n",
            "dense_15 (Dense)             (None, 1)                 13        \n",
            "=================================================================\n",
            "Total params: 163,185\n",
            "Trainable params: 163,185\n",
            "Non-trainable params: 0\n",
            "_________________________________________________________________\n"
          ],
          "name": "stdout"
        }
      ]
    },
    {
      "cell_type": "markdown",
      "metadata": {
        "id": "tBChTMU-BFtd",
        "colab_type": "text"
      },
      "source": [
        "Let's set up some callbacks. Callbacks:\n",
        "\n",
        "**EarlyStopping** - stop early if the validation loss has stopped improving\n",
        "\n",
        "**ModelCheckpoint** - save the model every epoch and save the best weights\n",
        "\n",
        "**ReduceLROnPlateau** - reduce learning rate when validation loss has stopped improving\n",
        "\n",
        "**LearningRateScheduler** - set learning rate to ramp up during early epochs\n"
      ]
    },
    {
      "cell_type": "code",
      "metadata": {
        "id": "W2P4yV5V_y-c",
        "colab_type": "code",
        "colab": {
          "base_uri": "https://localhost:8080/",
          "height": 294
        },
        "outputId": "d82ef9c8-449e-4598-e43c-1cb6c0feb4be"
      },
      "source": [
        "es = tf.keras.callbacks.EarlyStopping(patience=15, restore_best_weights=True, verbose=1)\n",
        "mc = tf.keras.callbacks.ModelCheckpoint('model.hdf5', save_best_only=True, verbose=0)\n",
        "rlr = tf.keras.callbacks.ReduceLROnPlateau(monitor='val_loss', patience=10, verbose=1)\n",
        "\n",
        "epochs = 20\n",
        "start_lr = 0.00001\n",
        "min_lr = 0.00001\n",
        "max_lr = 0.00005\n",
        "rampup_epochs = 15\n",
        "sustain_epochs = 10\n",
        "exp_decay = .8\n",
        "\n",
        "def lrfn(epoch):\n",
        "  if epoch < rampup_epochs:\n",
        "    return (max_lr - start_lr)/rampup_epochs * epoch + start_lr\n",
        "  elif epoch < rampup_epochs + sustain_epochs:\n",
        "    return max_lr\n",
        "  else:\n",
        "    return min_lr\n",
        "    \n",
        "lr = tf.keras.callbacks.LearningRateScheduler(lambda epoch: lrfn(epoch), verbose=True)\n",
        "\n",
        "rang = np.arange(epochs)\n",
        "y = [lrfn(x) for x in rang]\n",
        "plt.plot(rang, y)\n",
        "print('Learning rate per epoch:')"
      ],
      "execution_count": 44,
      "outputs": [
        {
          "output_type": "stream",
          "text": [
            "Learning rate per epoch:\n"
          ],
          "name": "stdout"
        },
        {
          "output_type": "display_data",
          "data": {
            "image/png": "[encoded data removed]",
            "text/plain": [
              "<Figure size 432x288 with 1 Axes>"
            ]
          },
          "metadata": {
            "tags": [],
            "needs_background": "light"
          }
        }
      ]
    },
    {
      "cell_type": "code",
      "metadata": {
        "id": "S8vhiOmq7DAm",
        "colab_type": "code",
        "outputId": "5a1ee4ea-c1c0-4456-daa5-e5b2968fa518",
        "colab": {
          "base_uri": "https://localhost:8080/",
          "height": 752
        }
      },
      "source": [
        "history = model.fit(X_train_padded, y_train, epochs=epochs, batch_size=64, validation_data=(X_valid_padded, y_valid), verbose=1, callbacks=[mc])"
      ],
      "execution_count": 45,
      "outputs": [
        {
          "output_type": "stream",
          "text": [
            "Epoch 1/20\n",
            "313/313 [==============================] - 6s 18ms/step - loss: 0.6930 - accuracy: 0.5112 - val_loss: 0.6926 - val_accuracy: 0.5104\n",
            "Epoch 2/20\n",
            "313/313 [==============================] - 5s 17ms/step - loss: 0.6535 - accuracy: 0.5960 - val_loss: 0.4901 - val_accuracy: 0.7728\n",
            "Epoch 3/20\n",
            "313/313 [==============================] - 5s 17ms/step - loss: 0.3944 - accuracy: 0.8322 - val_loss: 0.3359 - val_accuracy: 0.8628\n",
            "Epoch 4/20\n",
            "313/313 [==============================] - 5s 18ms/step - loss: 0.3201 - accuracy: 0.8747 - val_loss: 0.3275 - val_accuracy: 0.8652\n",
            "Epoch 5/20\n",
            "313/313 [==============================] - 5s 17ms/step - loss: 0.2961 - accuracy: 0.8834 - val_loss: 0.2979 - val_accuracy: 0.8780\n",
            "Epoch 6/20\n",
            "313/313 [==============================] - 5s 17ms/step - loss: 0.2777 - accuracy: 0.8921 - val_loss: 0.3189 - val_accuracy: 0.8674\n",
            "Epoch 7/20\n",
            "313/313 [==============================] - 5s 17ms/step - loss: 0.2701 - accuracy: 0.8954 - val_loss: 0.3051 - val_accuracy: 0.8756\n",
            "Epoch 8/20\n",
            "313/313 [==============================] - 5s 17ms/step - loss: 0.2577 - accuracy: 0.9010 - val_loss: 0.2978 - val_accuracy: 0.8820\n",
            "Epoch 9/20\n",
            "313/313 [==============================] - 5s 17ms/step - loss: 0.2517 - accuracy: 0.9033 - val_loss: 0.3145 - val_accuracy: 0.8726\n",
            "Epoch 10/20\n",
            "313/313 [==============================] - 5s 17ms/step - loss: 0.2460 - accuracy: 0.9065 - val_loss: 0.3055 - val_accuracy: 0.8764\n",
            "Epoch 11/20\n",
            "313/313 [==============================] - 5s 17ms/step - loss: 0.2426 - accuracy: 0.9083 - val_loss: 0.3028 - val_accuracy: 0.8782\n",
            "Epoch 12/20\n",
            "313/313 [==============================] - 6s 18ms/step - loss: 0.2386 - accuracy: 0.9076 - val_loss: 0.3030 - val_accuracy: 0.8774\n",
            "Epoch 13/20\n",
            "313/313 [==============================] - 5s 17ms/step - loss: 0.2387 - accuracy: 0.9081 - val_loss: 0.3132 - val_accuracy: 0.8778\n",
            "Epoch 14/20\n",
            "313/313 [==============================] - 5s 17ms/step - loss: 0.2294 - accuracy: 0.9108 - val_loss: 0.3111 - val_accuracy: 0.8786\n",
            "Epoch 15/20\n",
            "313/313 [==============================] - 6s 18ms/step - loss: 0.2237 - accuracy: 0.9143 - val_loss: 0.3173 - val_accuracy: 0.8762\n",
            "Epoch 16/20\n",
            "313/313 [==============================] - 6s 18ms/step - loss: 0.2273 - accuracy: 0.9122 - val_loss: 0.3215 - val_accuracy: 0.8760\n",
            "Epoch 17/20\n",
            "313/313 [==============================] - 5s 18ms/step - loss: 0.2200 - accuracy: 0.9134 - val_loss: 0.3283 - val_accuracy: 0.8666\n",
            "Epoch 18/20\n",
            "313/313 [==============================] - 5s 17ms/step - loss: 0.2151 - accuracy: 0.9171 - val_loss: 0.3245 - val_accuracy: 0.8676\n",
            "Epoch 19/20\n",
            "313/313 [==============================] - 5s 17ms/step - loss: 0.2160 - accuracy: 0.9161 - val_loss: 0.3352 - val_accuracy: 0.8720\n",
            "Epoch 20/20\n",
            "313/313 [==============================] - 5s 17ms/step - loss: 0.2130 - accuracy: 0.9168 - val_loss: 0.3319 - val_accuracy: 0.8708\n"
          ],
          "name": "stdout"
        }
      ]
    },
    {
      "cell_type": "code",
      "metadata": {
        "id": "1qQScGlT7vFj",
        "colab_type": "code",
        "outputId": "54876029-ab3e-4e03-9c62-97f476bea78b",
        "colab": {
          "base_uri": "https://localhost:8080/",
          "height": 541
        }
      },
      "source": [
        "import matplotlib.pyplot as plt\n",
        "\n",
        "\n",
        "def plot_graphs(history, string):\n",
        "  plt.plot(history.history[string])\n",
        "  plt.plot(history.history['val_'+string])\n",
        "  plt.xlabel(\"Epochs\")\n",
        "  plt.ylabel(string)\n",
        "  plt.legend([string, 'val_'+string])\n",
        "  plt.show()\n",
        "  \n",
        "plot_graphs(history, \"accuracy\")\n",
        "plot_graphs(history, \"loss\")"
      ],
      "execution_count": 46,
      "outputs": [
        {
          "output_type": "display_data",
          "data": {
            "image/png": "[encoded data removed]",
            "text/plain": [
              "<Figure size 432x288 with 1 Axes>"
            ]
          },
          "metadata": {
            "tags": [],
            "needs_background": "light"
          }
        },
        {
          "output_type": "display_data",
          "data": {
            "image/png": "[encoded data removed]",
            "text/plain": [
              "<Figure size 432x288 with 1 Axes>"
            ]
          },
          "metadata": {
            "tags": [],
            "needs_background": "light"
          }
        }
      ]
    },
    {
      "cell_type": "code",
      "metadata": {
        "id": "ZmcdYGlDKZce",
        "colab_type": "code",
        "colab": {
          "base_uri": "https://localhost:8080/",
          "height": 374
        },
        "outputId": "f37625fd-09df-4101-c2f3-6dbe2bbdd113"
      },
      "source": [
        "loc = '/content/aclImdb/test/pos'\n",
        "os.chdir(loc)\n",
        "filelist = os.listdir()\n",
        "\n",
        "test_reviews_pos = []\n",
        "test_labels_pos = []\n",
        "\n",
        "for f in filelist:\n",
        "  with open (f, \"r\") as myfile:\n",
        "    test_labels_pos.append(1)\n",
        "    review = myfile.read()\n",
        "    for word in stopwords:\n",
        "            token = \" \" + word + \" \"\n",
        "            review = review.replace(token, \" \")\n",
        "            review = review.replace(\"  \", \" \")\n",
        "    test_reviews_pos.append(review)\n",
        "\n",
        "loc = '/content/aclImdb/test/neg'\n",
        "os.chdir(loc)\n",
        "filelist = os.listdir()\n",
        "\n",
        "test_reviews_neg = []\n",
        "test_labels_neg = []\n",
        "\n",
        "for f in filelist:\n",
        "  with open (f, \"r\") as myfile:\n",
        "    test_labels_neg.append(0)\n",
        "    review = myfile.read()\n",
        "    for word in stopwords:\n",
        "            token = \" \" + word + \" \"\n",
        "            review = review.replace(token, \" \")\n",
        "            review = review.replace(\"  \", \" \")\n",
        "    test_reviews_neg.append(review)"
      ],
      "execution_count": 47,
      "outputs": [
        {
          "output_type": "error",
          "ename": "UnicodeDecodeError",
          "evalue": "ignored",
          "traceback": [
            "\u001b[0;31m---------------------------------------------------------------------------\u001b[0m",
            "\u001b[0;31mUnicodeDecodeError\u001b[0m                        Traceback (most recent call last)",
            "\u001b[0;32m<ipython-input-47-74a4771480d8>\u001b[0m in \u001b[0;36m<module>\u001b[0;34m()\u001b[0m\n\u001b[1;32m     26\u001b[0m   \u001b[0;32mwith\u001b[0m \u001b[0mopen\u001b[0m \u001b[0;34m(\u001b[0m\u001b[0mf\u001b[0m\u001b[0;34m,\u001b[0m \u001b[0;34m\"r\"\u001b[0m\u001b[0;34m)\u001b[0m \u001b[0;32mas\u001b[0m \u001b[0mmyfile\u001b[0m\u001b[0;34m:\u001b[0m\u001b[0;34m\u001b[0m\u001b[0;34m\u001b[0m\u001b[0m\n\u001b[1;32m     27\u001b[0m     \u001b[0mtest_labels_neg\u001b[0m\u001b[0;34m.\u001b[0m\u001b[0mappend\u001b[0m\u001b[0;34m(\u001b[0m\u001b[0;36m0\u001b[0m\u001b[0;34m)\u001b[0m\u001b[0;34m\u001b[0m\u001b[0;34m\u001b[0m\u001b[0m\n\u001b[0;32m---> 28\u001b[0;31m     \u001b[0mreview\u001b[0m \u001b[0;34m=\u001b[0m \u001b[0mmyfile\u001b[0m\u001b[0;34m.\u001b[0m\u001b[0mread\u001b[0m\u001b[0;34m(\u001b[0m\u001b[0;34m)\u001b[0m\u001b[0;34m\u001b[0m\u001b[0;34m\u001b[0m\u001b[0m\n\u001b[0m\u001b[1;32m     29\u001b[0m     \u001b[0;32mfor\u001b[0m \u001b[0mword\u001b[0m \u001b[0;32min\u001b[0m \u001b[0mstopwords\u001b[0m\u001b[0;34m:\u001b[0m\u001b[0;34m\u001b[0m\u001b[0;34m\u001b[0m\u001b[0m\n\u001b[1;32m     30\u001b[0m             \u001b[0mtoken\u001b[0m \u001b[0;34m=\u001b[0m \u001b[0;34m\" \"\u001b[0m \u001b[0;34m+\u001b[0m \u001b[0mword\u001b[0m \u001b[0;34m+\u001b[0m \u001b[0;34m\" \"\u001b[0m\u001b[0;34m\u001b[0m\u001b[0;34m\u001b[0m\u001b[0m\n",
            "\u001b[0;32m/usr/lib/python3.6/codecs.py\u001b[0m in \u001b[0;36mdecode\u001b[0;34m(self, input, final)\u001b[0m\n\u001b[1;32m    319\u001b[0m         \u001b[0;31m# decode input (taking the buffer into account)\u001b[0m\u001b[0;34m\u001b[0m\u001b[0;34m\u001b[0m\u001b[0;34m\u001b[0m\u001b[0m\n\u001b[1;32m    320\u001b[0m         \u001b[0mdata\u001b[0m \u001b[0;34m=\u001b[0m \u001b[0mself\u001b[0m\u001b[0;34m.\u001b[0m\u001b[0mbuffer\u001b[0m \u001b[0;34m+\u001b[0m \u001b[0minput\u001b[0m\u001b[0;34m\u001b[0m\u001b[0;34m\u001b[0m\u001b[0m\n\u001b[0;32m--> 321\u001b[0;31m         \u001b[0;34m(\u001b[0m\u001b[0mresult\u001b[0m\u001b[0;34m,\u001b[0m \u001b[0mconsumed\u001b[0m\u001b[0;34m)\u001b[0m \u001b[0;34m=\u001b[0m \u001b[0mself\u001b[0m\u001b[0;34m.\u001b[0m\u001b[0m_buffer_decode\u001b[0m\u001b[0;34m(\u001b[0m\u001b[0mdata\u001b[0m\u001b[0;34m,\u001b[0m \u001b[0mself\u001b[0m\u001b[0;34m.\u001b[0m\u001b[0merrors\u001b[0m\u001b[0;34m,\u001b[0m \u001b[0mfinal\u001b[0m\u001b[0;34m)\u001b[0m\u001b[0;34m\u001b[0m\u001b[0;34m\u001b[0m\u001b[0m\n\u001b[0m\u001b[1;32m    322\u001b[0m         \u001b[0;31m# keep undecoded input until the next call\u001b[0m\u001b[0;34m\u001b[0m\u001b[0;34m\u001b[0m\u001b[0;34m\u001b[0m\u001b[0m\n\u001b[1;32m    323\u001b[0m         \u001b[0mself\u001b[0m\u001b[0;34m.\u001b[0m\u001b[0mbuffer\u001b[0m \u001b[0;34m=\u001b[0m \u001b[0mdata\u001b[0m\u001b[0;34m[\u001b[0m\u001b[0mconsumed\u001b[0m\u001b[0;34m:\u001b[0m\u001b[0;34m]\u001b[0m\u001b[0;34m\u001b[0m\u001b[0;34m\u001b[0m\u001b[0m\n",
            "\u001b[0;31mUnicodeDecodeError\u001b[0m: 'utf-8' codec can't decode byte 0x89 in position 0: invalid start byte"
          ]
        }
      ]
    },
    {
      "cell_type": "code",
      "metadata": {
        "id": "fRcDYkM0LQnz",
        "colab_type": "code",
        "colab": {}
      },
      "source": [
        "test_reviews = test_reviews_pos + test_reviews_neg\n",
        "test_labels = test_labels_pos + test_labels_neg\n",
        "\n",
        "denoised_test_reviews = []\n",
        "\n",
        "for review in test_reviews:\n",
        "  denoised_test_reviews.append(preprocess(review))\n",
        "\n",
        "dataframe_test = pd.DataFrame(\n",
        "    {'reviews': denoised_test_reviews,\n",
        "     'labels': test_labels,\n",
        "    })"
      ],
      "execution_count": 0,
      "outputs": []
    },
    {
      "cell_type": "code",
      "metadata": {
        "id": "vW7KxWGRPRwm",
        "colab_type": "code",
        "colab": {}
      },
      "source": [
        "dataframe_test = shuffle(dataframe_test).reset_index(drop=True)"
      ],
      "execution_count": 0,
      "outputs": []
    },
    {
      "cell_type": "code",
      "metadata": {
        "id": "uBPykKaTPVyx",
        "colab_type": "code",
        "colab": {}
      },
      "source": [
        "test_sentences = dataframe_test['reviews']\n",
        "test_labels = dataframe_test['labels']"
      ],
      "execution_count": 0,
      "outputs": []
    },
    {
      "cell_type": "code",
      "metadata": {
        "id": "gb_N4GSkPgjq",
        "colab_type": "code",
        "colab": {}
      },
      "source": [
        "test_sequences = tokenizer.texts_to_sequences(test_sentences)\n",
        "test_padded = pad_sequences(test_sequences, padding=padding_type, maxlen=max_length)"
      ],
      "execution_count": 0,
      "outputs": []
    },
    {
      "cell_type": "code",
      "metadata": {
        "id": "ots_PADcP6X9",
        "colab_type": "code",
        "outputId": "623c77b2-c386-40c2-9cf8-de42fa50ac55",
        "colab": {
          "base_uri": "https://localhost:8080/",
          "height": 72
        }
      },
      "source": [
        "test_loss, test_acc = model.evaluate(test_padded, test_labels)\n",
        "print('Test loss:', test_loss)\n",
        "print('Test accuracy:', test_acc)"
      ],
      "execution_count": 48,
      "outputs": [
        {
          "output_type": "stream",
          "text": [
            "782/782 [==============================] - 3s 4ms/step - loss: 0.3245 - accuracy: 0.8730\n",
            "Test loss: 0.3245401382446289\n",
            "Test accuracy: 0.8730400204658508\n"
          ],
          "name": "stdout"
        }
      ]
    },
    {
      "cell_type": "code",
      "metadata": {
        "id": "VHGCDVSwIjsG",
        "colab_type": "code",
        "colab": {
          "base_uri": "https://localhost:8080/",
          "height": 35
        },
        "outputId": "d6d67ff3-28cd-4deb-d5fb-fa9e6d6a9476"
      },
      "source": [
        "Review = 'Where to begin? This headliner at the Fecal Film Festival is without a doubt the worst thing I have ever seen. Entirely without any redeeming value whatsoever, not even camp value mind you... this film lacks any substantive plot or story line that is discernable, nor comprehendable dialogue, nor even interest as a soft core porno.' #@param {type:\"string\"}\n",
        "Review = preprocess(Review)\n",
        "Review = tokenizer.texts_to_sequences([Review])\n",
        "Review = pad_sequences(Review, padding=padding_type, maxlen=max_length)\n",
        "prediction = model.predict(Review)\n",
        "print(prediction)"
      ],
      "execution_count": 67,
      "outputs": [
        {
          "output_type": "stream",
          "text": [
            "[[0.00656563]]\n"
          ],
          "name": "stdout"
        }
      ]
    },
    {
      "cell_type": "code",
      "metadata": {
        "id": "7W5MkQtMFmNW",
        "colab_type": "code",
        "colab": {}
      },
      "source": [
        ""
      ],
      "execution_count": 0,
      "outputs": []
    }
  ]
}