{
  "nbformat": 4,
  "nbformat_minor": 0,
  "metadata": {
    "colab": {
      "name": "imdb_movie_sentiment_classifier.ipynb",
      "provenance": [],
      "collapsed_sections": [],
      "mount_file_id": "1ZWxtz6JKvzQhFH0H6fTpWstkyG64EGlU",
      "authorship_tag": "ABX9TyM1s2UJ/bu9PWPnZ9JygBOC",
      "include_colab_link": true
    },
    "kernelspec": {
      "name": "python3",
      "display_name": "Python 3"
    },
    "accelerator": "GPU"
  },
  "cells": [
    {
      "cell_type": "markdown",
      "metadata": {
        "id": "view-in-github",
        "colab_type": "text"
      },
      "source": [
        "<a href=\"https://colab.research.google.com/github/stochasticats/imdb-review-sentiment-classifier/blob/master/imdb_movie_sentiment_classifier.ipynb\" target=\"_parent\"><img src=\"https://colab.research.google.com/assets/colab-badge.svg\" alt=\"Open In Colab\"/></a>"
      ]
    },
    {
      "cell_type": "markdown",
      "metadata": {
        "id": "u848e4r3yGzx",
        "colab_type": "text"
      },
      "source": [
        "# IMDb Movie Review Sentiment Classification\n",
        "This Google colab notebook is for developing a deep learning model to classify movie reviews as positive or negative using the data set provided here http://ai.stanford.edu/~amaas/data/sentiment/\n",
        "\n",
        "First we establish the libraries to be used."
      ]
    },
    {
      "cell_type": "code",
      "metadata": {
        "id": "AXTjalB6kRNX",
        "colab_type": "code",
        "outputId": "a0b58cdc-062a-4eb2-8876-2ab3b1179866",
        "colab": {
          "base_uri": "https://localhost:8080/",
          "height": 35
        }
      },
      "source": [
        "import numpy as np\n",
        "import pandas as pd\n",
        "import tensorflow as tf\n",
        "print(tf.__version__)\n",
        "import os\n",
        "import shutil\n",
        "import matplotlib.pyplot as plt\n",
        "import random\n",
        "from tensorflow.keras.preprocessing.text import Tokenizer\n",
        "from tensorflow.keras.preprocessing.sequence import pad_sequences"
      ],
      "execution_count": 1,
      "outputs": [
        {
          "output_type": "stream",
          "text": [
            "2.2.0\n"
          ],
          "name": "stdout"
        }
      ]
    },
    {
      "cell_type": "markdown",
      "metadata": {
        "id": "pXHMhP8ByFRW",
        "colab_type": "text"
      },
      "source": [
        "First download the zipped data from ai.stanford"
      ]
    },
    {
      "cell_type": "code",
      "metadata": {
        "id": "47qGhpxglceY",
        "colab_type": "code",
        "outputId": "0d29f34c-e334-4ff1-8f8c-575488467633",
        "colab": {
          "base_uri": "https://localhost:8080/",
          "height": 219
        }
      },
      "source": [
        "!wget \"http://ai.stanford.edu/~amaas/data/sentiment/aclImdb_v1.tar.gz\""
      ],
      "execution_count": 2,
      "outputs": [
        {
          "output_type": "stream",
          "text": [
            "--2020-06-02 01:39:26--  http://ai.stanford.edu/~amaas/data/sentiment/aclImdb_v1.tar.gz\n",
            "Resolving ai.stanford.edu (ai.stanford.edu)... 171.64.68.10\n",
            "Connecting to ai.stanford.edu (ai.stanford.edu)|171.64.68.10|:80... connected.\n",
            "HTTP request sent, awaiting response... 200 OK\n",
            "Length: 84125825 (80M) [application/x-gzip]\n",
            "Saving to: ‘aclImdb_v1.tar.gz’\n",
            "\n",
            "aclImdb_v1.tar.gz   100%[===================>]  80.23M  19.8MB/s    in 7.6s    \n",
            "\n",
            "2020-06-02 01:39:34 (10.6 MB/s) - ‘aclImdb_v1.tar.gz’ saved [84125825/84125825]\n",
            "\n"
          ],
          "name": "stdout"
        }
      ]
    },
    {
      "cell_type": "code",
      "metadata": {
        "id": "pqKBxqhwpvHp",
        "colab_type": "code",
        "colab": {}
      },
      "source": [
        "%%capture\n",
        "!tar -xvf \"/content/aclImdb_v1.tar.gz\""
      ],
      "execution_count": 0,
      "outputs": []
    },
    {
      "cell_type": "markdown",
      "metadata": {
        "id": "qKstJX53zU_o",
        "colab_type": "text"
      },
      "source": [
        "Here I establish stopwords, these are words that will add no meaning to the reviews and will be removed."
      ]
    },
    {
      "cell_type": "code",
      "metadata": {
        "id": "rjSHgttdqPw6",
        "colab_type": "code",
        "colab": {}
      },
      "source": [
        "stopwords = [\"a\", \"about\", \"above\", \"after\", \"again\", \"against\", \"all\", \"am\", \"an\", \"and\", \"any\", \"are\", \"as\", \"at\", \"be\", \"because\", \"been\", \"before\", \"being\", \"below\", \"between\", \"both\", \"but\", \"by\", \"could\", \"did\", \"do\", \"does\", \"doing\", \"down\", \"during\", \"each\", \"few\", \"for\", \"from\", \"further\", \"had\", \"has\", \"have\", \"having\", \"he\", \"he'd\", \"he'll\", \"he's\", \"her\", \"here\", \"here's\", \"hers\", \"herself\", \"him\", \"himself\", \"his\", \"how\", \"how's\", \"i\", \"i'd\", \"i'll\", \"i'm\", \"i've\", \"if\", \"in\", \"into\", \"is\", \"it\", \"it's\", \"its\", \"itself\", \"let's\", \"me\", \"more\", \"most\", \"my\", \"myself\", \"nor\", \"of\", \"on\", \"once\", \"only\", \"or\", \"other\", \"ought\", \"our\", \"ours\", \"ourselves\", \"out\", \"over\", \"own\", \"same\", \"she\", \"she'd\", \"she'll\", \"she's\", \"should\", \"so\", \"some\", \"such\", \"than\", \"that\", \"that's\", \"the\", \"their\", \"theirs\", \"them\", \"themselves\", \"then\", \"there\", \"there's\", \"these\", \"they\", \"they'd\", \"they'll\", \"they're\", \"they've\", \"this\", \"those\", \"through\", \"to\", \"too\", \"under\", \"until\", \"up\", \"very\", \"was\", \"we\", \"we'd\", \"we'll\", \"we're\", \"we've\", \"were\", \"what\", \"what's\", \"when\", \"when's\", \"where\", \"where's\", \"which\", \"while\", \"who\", \"who's\", \"whom\", \"why\", \"why's\", \"with\", \"would\", \"you\", \"you'd\", \"you'll\", \"you're\", \"you've\", \"your\", \"yours\", \"yourself\", \"yourselves\" ]"
      ],
      "execution_count": 0,
      "outputs": []
    },
    {
      "cell_type": "markdown",
      "metadata": {
        "id": "J2ErydAP1F4o",
        "colab_type": "text"
      },
      "source": [
        "# Load Data and Data Preprocessing\n",
        "\n",
        "Let's load the training data, which is conveniently in two folders based on the sentiment classification."
      ]
    },
    {
      "cell_type": "code",
      "metadata": {
        "id": "l2M45Oikqv7f",
        "colab_type": "code",
        "colab": {}
      },
      "source": [
        "loc = '/content/aclImdb/train/pos'\n",
        "os.chdir(loc)\n",
        "filelist = os.listdir()\n",
        "\n",
        "reviews_pos = []\n",
        "labels_pos = []\n",
        "\n",
        "for f in filelist:\n",
        "  with open (f, \"r\") as myfile:\n",
        "    labels_pos.append(1)\n",
        "    review = myfile.read()\n",
        "    for word in stopwords:\n",
        "            token = \" \" + word + \" \"\n",
        "            review = review.replace(token, \" \")\n",
        "            review = review.replace(\"  \", \" \")\n",
        "    reviews_pos.append(review)\n",
        "\n",
        "loc = '/content/aclImdb/train/neg'\n",
        "os.chdir(loc)\n",
        "filelist = os.listdir()\n",
        "\n",
        "reviews_neg = []\n",
        "labels_neg = []\n",
        "\n",
        "for f in filelist:\n",
        "  with open (f, \"r\") as myfile:\n",
        "    labels_neg.append(0)\n",
        "    review = myfile.read()\n",
        "    for word in stopwords:\n",
        "            token = \" \" + word + \" \"\n",
        "            review = review.replace(token, \" \")\n",
        "            review = review.replace(\"  \", \" \")\n",
        "    reviews_neg.append(review)"
      ],
      "execution_count": 0,
      "outputs": []
    },
    {
      "cell_type": "code",
      "metadata": {
        "id": "UGmYhQPzrzyt",
        "colab_type": "code",
        "outputId": "d4bbf8e1-c13d-4843-b53c-2742fa757815",
        "colab": {
          "base_uri": "https://localhost:8080/",
          "height": 257
        }
      },
      "source": [
        "randn = random.randint(0,len(reviews_pos))\n",
        "\n",
        "print(\"Length of reviews that are positive:\")\n",
        "print(len(reviews_pos))\n",
        "print(\"Example of a positive review:\")\n",
        "print(reviews_pos[randn])\n",
        "print(\"The label:\")\n",
        "print(labels_pos[randn])\n",
        "print(\"Length of reviews that are negative:\")\n",
        "print(len(reviews_neg))\n",
        "print(\"Example of a negative review:\")\n",
        "print(reviews_neg[randn])\n",
        "print(\"The label:\")\n",
        "print(labels_neg[randn])"
      ],
      "execution_count": 6,
      "outputs": [
        {
          "output_type": "stream",
          "text": [
            "Length of reviews that are positive:\n",
            "12500\n",
            "Example of a positive review:\n",
            "Remember early days Pay Per View? I do, can almost remember number CALL actually rent movie t.v. As kid always wanted rent playboy, meant actually calling someone PPV asking rent it. And get nerve watching four hours soft core no angle crap. Well reason bring movie ppv. And remember almost every scene add. I've kick last years obtain great movies use see kid one them. It's one hard shut off. All star cast trying commit perfect bank bust nothing goes right. There plenty spoof bank capers good one fall category. It enough action laughs sustain it. check dare!\n",
            "The label:\n",
            "1\n",
            "Length of reviews that are negative:\n",
            "12500\n",
            "Example of a negative review:\n",
            "I say I hated movie. I don't like say Gerard Butler it. About half hour boring conversation, sorry actually care plot, I started fast-forwarding Gerry's scenes. I really don't know ending, I bored it. If Gerry wasn't it, I probably either done one two things: fell asleep turned off, Gerry bright light movie, earlier movies. If fan Gerry's don't worry, adorable precious always is, actually want watch movie plot, good luck need it, either lots coffee soda keep awake! <br /><br />4/10...and just casting director sense put Gerry movie, even though no idea spell name!\n",
            "The label:\n",
            "0\n"
          ],
          "name": "stdout"
        }
      ]
    },
    {
      "cell_type": "markdown",
      "metadata": {
        "id": "1cggsVMe00AU",
        "colab_type": "text"
      },
      "source": [
        "We have 25,000 reviews in total, 12,500 positive and 12,500 negative. As we can see, our reviews need some processing for the deep learning model.  We need to take out the digits and special characters.\n",
        "\n",
        "Here's a function to use to process the data."
      ]
    },
    {
      "cell_type": "code",
      "metadata": {
        "id": "3-ttH0fPvh5e",
        "colab_type": "code",
        "colab": {}
      },
      "source": [
        "import spacy\n",
        "import re,string,unicodedata\n",
        "\n",
        "def preprocess(text):\n",
        "    text = re.sub('<[^>]*>', '',text)\n",
        "    emoticons = re.findall('(?::|;|=)(?:-)?(?:\\)|\\(|D|P)', text)\n",
        "    text=re.sub('[\\W]+',' ',text.lower()) +\\\n",
        "       ' '.join(emoticons).replace('-','')  \n",
        "    return text"
      ],
      "execution_count": 0,
      "outputs": []
    },
    {
      "cell_type": "code",
      "metadata": {
        "id": "9ZUZ8RKJ1_u7",
        "colab_type": "code",
        "colab": {}
      },
      "source": [
        "reviews = reviews_pos + reviews_neg\n",
        "labels = labels_pos + labels_neg"
      ],
      "execution_count": 0,
      "outputs": []
    },
    {
      "cell_type": "code",
      "metadata": {
        "id": "zqARNGomxfJX",
        "colab_type": "code",
        "colab": {}
      },
      "source": [
        "denoised_reviews = []\n",
        "\n",
        "for review in reviews:\n",
        "  denoised_reviews.append(preprocess(review))"
      ],
      "execution_count": 0,
      "outputs": []
    },
    {
      "cell_type": "markdown",
      "metadata": {
        "id": "iOtZ2V3JDzrM",
        "colab_type": "text"
      },
      "source": [
        "Let's put it into a single data frame and take a look."
      ]
    },
    {
      "cell_type": "code",
      "metadata": {
        "id": "wTWHcQf43jBQ",
        "colab_type": "code",
        "colab": {}
      },
      "source": [
        "dataframe = pd.DataFrame(\n",
        "    {'reviews': denoised_reviews,\n",
        "     'labels': labels,\n",
        "    })\n",
        "from sklearn.utils import shuffle\n",
        "dataframe = shuffle(dataframe).reset_index(drop=True)"
      ],
      "execution_count": 0,
      "outputs": []
    },
    {
      "cell_type": "code",
      "metadata": {
        "id": "nOra71A34Pr-",
        "colab_type": "code",
        "outputId": "be0f869b-dd98-4ac9-a696-af70caadccda",
        "colab": {
          "base_uri": "https://localhost:8080/",
          "height": 677
        }
      },
      "source": [
        "dataframe.head(20)"
      ],
      "execution_count": 11,
      "outputs": [
        {
          "output_type": "execute_result",
          "data": {
            "text/html": [
              "<div>\n",
              "<style scoped>\n",
              "    .dataframe tbody tr th:only-of-type {\n",
              "        vertical-align: middle;\n",
              "    }\n",
              "\n",
              "    .dataframe tbody tr th {\n",
              "        vertical-align: top;\n",
              "    }\n",
              "\n",
              "    .dataframe thead th {\n",
              "        text-align: right;\n",
              "    }\n",
              "</style>\n",
              "<table border=\"1\" class=\"dataframe\">\n",
              "  <thead>\n",
              "    <tr style=\"text-align: right;\">\n",
              "      <th></th>\n",
              "      <th>reviews</th>\n",
              "      <th>labels</th>\n",
              "    </tr>\n",
              "  </thead>\n",
              "  <tbody>\n",
              "    <tr>\n",
              "      <th>0</th>\n",
              "      <td>it not easy film watch three half hours long c...</td>\n",
              "      <td>1</td>\n",
              "    </tr>\n",
              "    <tr>\n",
              "      <th>1</th>\n",
              "      <td>imagine hampered bureaucracy one man spends 8 ...</td>\n",
              "      <td>1</td>\n",
              "    </tr>\n",
              "    <tr>\n",
              "      <th>2</th>\n",
              "      <td>this film much rip off masterpeice demons that...</td>\n",
              "      <td>0</td>\n",
              "    </tr>\n",
              "    <tr>\n",
              "      <th>3</th>\n",
              "      <td>rawhide wonderful tv western series focusing b...</td>\n",
              "      <td>1</td>\n",
              "    </tr>\n",
              "    <tr>\n",
              "      <th>4</th>\n",
              "      <td>burt reynolds came point career appeared just ...</td>\n",
              "      <td>0</td>\n",
              "    </tr>\n",
              "    <tr>\n",
              "      <th>5</th>\n",
              "      <td>i fell love silent action drama kurt russell k...</td>\n",
              "      <td>1</td>\n",
              "    </tr>\n",
              "    <tr>\n",
              "      <th>6</th>\n",
              "      <td>marlon brando long since lost interest acting ...</td>\n",
              "      <td>0</td>\n",
              "    </tr>\n",
              "    <tr>\n",
              "      <th>7</th>\n",
              "      <td>why star reaches top star chain ruin good work...</td>\n",
              "      <td>0</td>\n",
              "    </tr>\n",
              "    <tr>\n",
              "      <th>8</th>\n",
              "      <td>this movie really great flick something affect...</td>\n",
              "      <td>1</td>\n",
              "    </tr>\n",
              "    <tr>\n",
              "      <th>9</th>\n",
              "      <td>after success part 4 another sequel natural mo...</td>\n",
              "      <td>0</td>\n",
              "    </tr>\n",
              "    <tr>\n",
              "      <th>10</th>\n",
              "      <td>this movie one provocative jesus movies i ever...</td>\n",
              "      <td>1</td>\n",
              "    </tr>\n",
              "    <tr>\n",
              "      <th>11</th>\n",
              "      <td>i ll dispense usual comparisons certain legend...</td>\n",
              "      <td>0</td>\n",
              "    </tr>\n",
              "    <tr>\n",
              "      <th>12</th>\n",
              "      <td>for first film proposed series achieves right ...</td>\n",
              "      <td>1</td>\n",
              "    </tr>\n",
              "    <tr>\n",
              "      <th>13</th>\n",
              "      <td>the obvious parallels walt disney s charming f...</td>\n",
              "      <td>1</td>\n",
              "    </tr>\n",
              "    <tr>\n",
              "      <th>14</th>\n",
              "      <td>in september 2003 36 year old jonny kennedy di...</td>\n",
              "      <td>1</td>\n",
              "    </tr>\n",
              "    <tr>\n",
              "      <th>15</th>\n",
              "      <td>i lucky enough catch movie volunteering maryla...</td>\n",
              "      <td>1</td>\n",
              "    </tr>\n",
              "    <tr>\n",
              "      <th>16</th>\n",
              "      <td>i found dvd version movie rummage sale the bas...</td>\n",
              "      <td>0</td>\n",
              "    </tr>\n",
              "    <tr>\n",
              "      <th>17</th>\n",
              "      <td>would anyone really watch rubbish didn t conta...</td>\n",
              "      <td>0</td>\n",
              "    </tr>\n",
              "    <tr>\n",
              "      <th>18</th>\n",
              "      <td>this weakest series not much plot rather odd l...</td>\n",
              "      <td>0</td>\n",
              "    </tr>\n",
              "    <tr>\n",
              "      <th>19</th>\n",
              "      <td>the lady shanghai well known one hollywood s ...</td>\n",
              "      <td>1</td>\n",
              "    </tr>\n",
              "  </tbody>\n",
              "</table>\n",
              "</div>"
            ],
            "text/plain": [
              "                                              reviews  labels\n",
              "0   it not easy film watch three half hours long c...       1\n",
              "1   imagine hampered bureaucracy one man spends 8 ...       1\n",
              "2   this film much rip off masterpeice demons that...       0\n",
              "3   rawhide wonderful tv western series focusing b...       1\n",
              "4   burt reynolds came point career appeared just ...       0\n",
              "5   i fell love silent action drama kurt russell k...       1\n",
              "6   marlon brando long since lost interest acting ...       0\n",
              "7   why star reaches top star chain ruin good work...       0\n",
              "8   this movie really great flick something affect...       1\n",
              "9   after success part 4 another sequel natural mo...       0\n",
              "10  this movie one provocative jesus movies i ever...       1\n",
              "11  i ll dispense usual comparisons certain legend...       0\n",
              "12  for first film proposed series achieves right ...       1\n",
              "13  the obvious parallels walt disney s charming f...       1\n",
              "14  in september 2003 36 year old jonny kennedy di...       1\n",
              "15  i lucky enough catch movie volunteering maryla...       1\n",
              "16  i found dvd version movie rummage sale the bas...       0\n",
              "17  would anyone really watch rubbish didn t conta...       0\n",
              "18  this weakest series not much plot rather odd l...       0\n",
              "19   the lady shanghai well known one hollywood s ...       1"
            ]
          },
          "metadata": {
            "tags": []
          },
          "execution_count": 11
        }
      ]
    },
    {
      "cell_type": "markdown",
      "metadata": {
        "id": "d9Q-5E-LD4Lg",
        "colab_type": "text"
      },
      "source": [
        "Let's take a look at the distribution of review length."
      ]
    },
    {
      "cell_type": "code",
      "metadata": {
        "id": "Lv7sSyZGEeyK",
        "colab_type": "code",
        "outputId": "ae1117ae-720f-401a-c669-77cf9177751b",
        "colab": {
          "base_uri": "https://localhost:8080/",
          "height": 404
        }
      },
      "source": [
        "plt.figure(figsize=(10, 6))\n",
        "plt.hist([len(review) for review in dataframe['reviews']], 50)\n",
        "plt.xlabel('Length of reviews')\n",
        "plt.ylabel('Number of reviews')\n",
        "plt.title('Review length distribution')\n",
        "plt.show()"
      ],
      "execution_count": 12,
      "outputs": [
        {
          "output_type": "display_data",
          "data": {
            "image/png": "[encoded data removed]",
            "text/plain": [
              "<Figure size 720x432 with 1 Axes>"
            ]
          },
          "metadata": {
            "tags": [],
            "needs_background": "light"
          }
        }
      ]
    },
    {
      "cell_type": "markdown",
      "metadata": {
        "id": "E4mmyMzJEpL3",
        "colab_type": "text"
      },
      "source": [
        "There seems to be a peak at around length ~1000, meaning there's a lot of reviews with length ~1000. "
      ]
    },
    {
      "cell_type": "code",
      "metadata": {
        "id": "Buy9xXcV4s8D",
        "colab_type": "code",
        "colab": {}
      },
      "source": [
        "vocab_size = 8000\n",
        "embedding_dim = 128\n",
        "max_length = 3000\n",
        "trunc_type='post'\n",
        "padding_type='post'\n",
        "oov_tok = \"<OOV>\""
      ],
      "execution_count": 0,
      "outputs": []
    },
    {
      "cell_type": "code",
      "metadata": {
        "id": "qkjY0MM64UpE",
        "colab_type": "code",
        "colab": {}
      },
      "source": [
        "from sklearn.model_selection import train_test_split\n",
        "X_train, X_valid, y_train, y_valid = train_test_split(dataframe['reviews'], dataframe['labels'], test_size=0.2, random_state=42)"
      ],
      "execution_count": 0,
      "outputs": []
    },
    {
      "cell_type": "code",
      "metadata": {
        "id": "LBZe1mPn6i3a",
        "colab_type": "code",
        "outputId": "8e8767bd-4ee1-40e7-cbe2-47d38510d4d9",
        "colab": {
          "base_uri": "https://localhost:8080/",
          "height": 90
        }
      },
      "source": [
        "print(len(X_train))\n",
        "print(len(y_train))\n",
        "print(len(X_valid))\n",
        "print(len(y_valid))"
      ],
      "execution_count": 15,
      "outputs": [
        {
          "output_type": "stream",
          "text": [
            "20000\n",
            "20000\n",
            "5000\n",
            "5000\n"
          ],
          "name": "stdout"
        }
      ]
    },
    {
      "cell_type": "code",
      "metadata": {
        "id": "L1Bquxg66mx9",
        "colab_type": "code",
        "outputId": "bacd9bb8-8a6b-4019-fe25-867097888cd6",
        "colab": {
          "base_uri": "https://localhost:8080/",
          "height": 127
        }
      },
      "source": [
        "tokenizer = Tokenizer(num_words = vocab_size, oov_token=oov_tok)\n",
        "tokenizer.fit_on_texts(X_train)\n",
        "word_index = tokenizer.word_index\n",
        "\n",
        "X_train_seqs = tokenizer.texts_to_sequences(X_train)\n",
        "X_train_padded = pad_sequences(X_train_seqs, padding=padding_type, maxlen=max_length)\n",
        "\n",
        "print(len(X_train_seqs[0]))\n",
        "print(len(X_train_padded[0]))\n",
        "\n",
        "print(len(X_train_seqs[600]))\n",
        "print(len(X_train_padded[600]))\n",
        "\n",
        "print(len(X_train_seqs[10000]))\n",
        "print(len(X_train_padded[10000]))"
      ],
      "execution_count": 16,
      "outputs": [
        {
          "output_type": "stream",
          "text": [
            "424\n",
            "3000\n",
            "83\n",
            "3000\n",
            "50\n",
            "3000\n"
          ],
          "name": "stdout"
        }
      ]
    },
    {
      "cell_type": "code",
      "metadata": {
        "id": "13jNasaq6qRq",
        "colab_type": "code",
        "outputId": "e97b5f98-7dcf-48b1-d93c-e5c740ed5a24",
        "colab": {
          "base_uri": "https://localhost:8080/",
          "height": 54
        }
      },
      "source": [
        "X_valid_seqs = tokenizer.texts_to_sequences(X_valid)\n",
        "X_valid_padded = pad_sequences(X_valid_seqs, padding=padding_type, maxlen=max_length)\n",
        "\n",
        "print(len(X_valid_seqs))\n",
        "print(X_valid_padded.shape)"
      ],
      "execution_count": 17,
      "outputs": [
        {
          "output_type": "stream",
          "text": [
            "5000\n",
            "(5000, 3000)\n"
          ],
          "name": "stdout"
        }
      ]
    },
    {
      "cell_type": "markdown",
      "metadata": {
        "id": "eWgDHL_j7ohQ",
        "colab_type": "text"
      },
      "source": [
        "# Deep Learning Model\n",
        "\n",
        "Here I build the deep learning model. \n",
        "\n",
        "First we start with an embedding layer so that the network learns the embedding space our vocabulary lives in. Words or phrases are mapped to vectors of real numbers. The embedding layer is a dimensionality reduction technique used to take the size of vocabulary to a vector space with much lower dimension.\n",
        "\n",
        "Then the data is fed into dense layers."
      ]
    },
    {
      "cell_type": "code",
      "metadata": {
        "id": "n2Dq_wSV61zO",
        "colab_type": "code",
        "outputId": "a4155043-1d71-4078-afd3-0b70b7764c96",
        "colab": {
          "base_uri": "https://localhost:8080/",
          "height": 825
        }
      },
      "source": [
        "model = tf.keras.Sequential([\n",
        "    tf.keras.layers.Embedding(vocab_size, embedding_dim, input_length=max_length),\n",
        "    #tf.keras.layers.Flatten(),\n",
        "    #tf.keras.layers.Dropout(0.3),\n",
        "    tf.keras.layers.Conv1D(256, 5),\n",
        "    tf.keras.layers.BatchNormalization(),\n",
        "    tf.keras.layers.Activation('relu'),\n",
        "    tf.keras.layers.MaxPooling1D(5),\n",
        "    tf.keras.layers.Conv1D(128, 5),\n",
        "    tf.keras.layers.BatchNormalization(),\n",
        "    tf.keras.layers.Activation('relu'),\n",
        "    tf.keras.layers.MaxPooling1D(5),\n",
        "    tf.keras.layers.Conv1D(64, 5),\n",
        "    tf.keras.layers.BatchNormalization(),\n",
        "    tf.keras.layers.Activation('relu'),\n",
        "    tf.keras.layers.MaxPooling1D(5),\n",
        "    tf.keras.layers.Conv1D(32, 5),\n",
        "    tf.keras.layers.BatchNormalization(),\n",
        "    tf.keras.layers.Activation('relu'),\n",
        "    tf.keras.layers.GlobalAveragePooling1D(),\n",
        "    tf.keras.layers.Dense(1, activation='sigmoid')\n",
        "])\n",
        "model.compile(loss=\"binary_crossentropy\",optimizer='adam',metrics=['accuracy'])\n",
        "model.summary()"
      ],
      "execution_count": 18,
      "outputs": [
        {
          "output_type": "stream",
          "text": [
            "Model: \"sequential\"\n",
            "_________________________________________________________________\n",
            "Layer (type)                 Output Shape              Param #   \n",
            "=================================================================\n",
            "embedding (Embedding)        (None, 3000, 128)         1024000   \n",
            "_________________________________________________________________\n",
            "conv1d (Conv1D)              (None, 2996, 256)         164096    \n",
            "_________________________________________________________________\n",
            "batch_normalization (BatchNo (None, 2996, 256)         1024      \n",
            "_________________________________________________________________\n",
            "activation (Activation)      (None, 2996, 256)         0         \n",
            "_________________________________________________________________\n",
            "max_pooling1d (MaxPooling1D) (None, 599, 256)          0         \n",
            "_________________________________________________________________\n",
            "conv1d_1 (Conv1D)            (None, 595, 128)          163968    \n",
            "_________________________________________________________________\n",
            "batch_normalization_1 (Batch (None, 595, 128)          512       \n",
            "_________________________________________________________________\n",
            "activation_1 (Activation)    (None, 595, 128)          0         \n",
            "_________________________________________________________________\n",
            "max_pooling1d_1 (MaxPooling1 (None, 119, 128)          0         \n",
            "_________________________________________________________________\n",
            "conv1d_2 (Conv1D)            (None, 115, 64)           41024     \n",
            "_________________________________________________________________\n",
            "batch_normalization_2 (Batch (None, 115, 64)           256       \n",
            "_________________________________________________________________\n",
            "activation_2 (Activation)    (None, 115, 64)           0         \n",
            "_________________________________________________________________\n",
            "max_pooling1d_2 (MaxPooling1 (None, 23, 64)            0         \n",
            "_________________________________________________________________\n",
            "conv1d_3 (Conv1D)            (None, 19, 32)            10272     \n",
            "_________________________________________________________________\n",
            "batch_normalization_3 (Batch (None, 19, 32)            128       \n",
            "_________________________________________________________________\n",
            "activation_3 (Activation)    (None, 19, 32)            0         \n",
            "_________________________________________________________________\n",
            "global_average_pooling1d (Gl (None, 32)                0         \n",
            "_________________________________________________________________\n",
            "dense (Dense)                (None, 1)                 33        \n",
            "=================================================================\n",
            "Total params: 1,405,313\n",
            "Trainable params: 1,404,353\n",
            "Non-trainable params: 960\n",
            "_________________________________________________________________\n"
          ],
          "name": "stdout"
        }
      ]
    },
    {
      "cell_type": "markdown",
      "metadata": {
        "id": "tBChTMU-BFtd",
        "colab_type": "text"
      },
      "source": [
        "Let's set up some callbacks. Callbacks:\n",
        "\n",
        "**EarlyStopping** - stop early if the validation loss has stopped improving\n",
        "\n",
        "**ModelCheckpoint** - save the model every epoch and save the best weights\n",
        "\n",
        "**ReduceLROnPlateau** - reduce learning rate when validation loss has stopped improving\n",
        "\n",
        "**LearningRateScheduler** - set learning rate to ramp up during early epochs\n"
      ]
    },
    {
      "cell_type": "code",
      "metadata": {
        "id": "W2P4yV5V_y-c",
        "colab_type": "code",
        "outputId": "f30df94d-f3df-40ec-af94-7017533c2985",
        "colab": {
          "base_uri": "https://localhost:8080/",
          "height": 294
        }
      },
      "source": [
        "es = tf.keras.callbacks.EarlyStopping(patience=15, restore_best_weights=True, verbose=1)\n",
        "mc = tf.keras.callbacks.ModelCheckpoint('model.hdf5', save_best_only=True, verbose=0)\n",
        "rlr = tf.keras.callbacks.ReduceLROnPlateau(monitor='val_loss', patience=10, verbose=1)\n",
        "\n",
        "epochs = 20\n",
        "start_lr = 0.00001\n",
        "min_lr = 0.00001\n",
        "max_lr = 0.00005\n",
        "rampup_epochs = 15\n",
        "sustain_epochs = 10\n",
        "exp_decay = .8\n",
        "\n",
        "def lrfn(epoch):\n",
        "  if epoch < rampup_epochs:\n",
        "    return (max_lr - start_lr)/rampup_epochs * epoch + start_lr\n",
        "  elif epoch < rampup_epochs + sustain_epochs:\n",
        "    return max_lr\n",
        "  else:\n",
        "    return min_lr\n",
        "    \n",
        "lr = tf.keras.callbacks.LearningRateScheduler(lambda epoch: lrfn(epoch), verbose=True)\n",
        "\n",
        "rang = np.arange(epochs)\n",
        "y = [lrfn(x) for x in rang]\n",
        "plt.plot(rang, y)\n",
        "print('Learning rate per epoch:')"
      ],
      "execution_count": 19,
      "outputs": [
        {
          "output_type": "stream",
          "text": [
            "Learning rate per epoch:\n"
          ],
          "name": "stdout"
        },
        {
          "output_type": "display_data",
          "data": {
            "image/png": "[encoded data removed]",
            "text/plain": [
              "<Figure size 432x288 with 1 Axes>"
            ]
          },
          "metadata": {
            "tags": [],
            "needs_background": "light"
          }
        }
      ]
    },
    {
      "cell_type": "code",
      "metadata": {
        "id": "S8vhiOmq7DAm",
        "colab_type": "code",
        "outputId": "47d3e22b-8f4c-4d1c-f9fd-332b0067ac0d",
        "colab": {
          "base_uri": "https://localhost:8080/",
          "height": 752
        }
      },
      "source": [
        "history = model.fit(X_train_padded, y_train, epochs=epochs, batch_size=128, validation_data=(X_valid_padded, y_valid), verbose=1, callbacks=[mc])"
      ],
      "execution_count": 20,
      "outputs": [
        {
          "output_type": "stream",
          "text": [
            "Epoch 1/20\n",
            "157/157 [==============================] - 33s 211ms/step - loss: 0.5203 - accuracy: 0.7620 - val_loss: 0.7342 - val_accuracy: 0.4916\n",
            "Epoch 2/20\n",
            "157/157 [==============================] - 33s 207ms/step - loss: 0.2565 - accuracy: 0.9262 - val_loss: 0.6247 - val_accuracy: 0.5852\n",
            "Epoch 3/20\n",
            "157/157 [==============================] - 33s 208ms/step - loss: 0.1112 - accuracy: 0.9829 - val_loss: 0.4538 - val_accuracy: 0.8578\n",
            "Epoch 4/20\n",
            "157/157 [==============================] - 33s 208ms/step - loss: 0.0425 - accuracy: 0.9981 - val_loss: 0.3473 - val_accuracy: 0.8670\n",
            "Epoch 5/20\n",
            "157/157 [==============================] - 33s 208ms/step - loss: 0.0181 - accuracy: 0.9998 - val_loss: 0.2876 - val_accuracy: 0.8808\n",
            "Epoch 6/20\n",
            "157/157 [==============================] - 32s 206ms/step - loss: 0.0101 - accuracy: 1.0000 - val_loss: 0.3162 - val_accuracy: 0.8798\n",
            "Epoch 7/20\n",
            "157/157 [==============================] - 32s 207ms/step - loss: 0.0067 - accuracy: 0.9999 - val_loss: 0.3118 - val_accuracy: 0.8824\n",
            "Epoch 8/20\n",
            "157/157 [==============================] - 32s 207ms/step - loss: 0.0141 - accuracy: 0.9987 - val_loss: 2.8734 - val_accuracy: 0.5224\n",
            "Epoch 9/20\n",
            "157/157 [==============================] - 33s 208ms/step - loss: 0.0198 - accuracy: 0.9969 - val_loss: 0.5934 - val_accuracy: 0.8110\n",
            "Epoch 10/20\n",
            "157/157 [==============================] - 32s 206ms/step - loss: 0.0153 - accuracy: 0.9974 - val_loss: 0.8615 - val_accuracy: 0.7814\n",
            "Epoch 11/20\n",
            "157/157 [==============================] - 33s 207ms/step - loss: 0.0147 - accuracy: 0.9973 - val_loss: 0.5109 - val_accuracy: 0.8476\n",
            "Epoch 12/20\n",
            "157/157 [==============================] - 32s 207ms/step - loss: 0.0049 - accuracy: 0.9998 - val_loss: 0.4556 - val_accuracy: 0.8602\n",
            "Epoch 13/20\n",
            "157/157 [==============================] - 32s 207ms/step - loss: 0.0020 - accuracy: 1.0000 - val_loss: 0.3608 - val_accuracy: 0.8840\n",
            "Epoch 14/20\n",
            "157/157 [==============================] - 33s 207ms/step - loss: 0.0020 - accuracy: 0.9999 - val_loss: 0.4813 - val_accuracy: 0.8662\n",
            "Epoch 15/20\n",
            "157/157 [==============================] - 32s 207ms/step - loss: 0.0167 - accuracy: 0.9966 - val_loss: 0.5207 - val_accuracy: 0.8696\n",
            "Epoch 16/20\n",
            "157/157 [==============================] - 33s 207ms/step - loss: 0.0076 - accuracy: 0.9987 - val_loss: 0.4590 - val_accuracy: 0.8618\n",
            "Epoch 17/20\n",
            "157/157 [==============================] - 32s 207ms/step - loss: 0.0039 - accuracy: 0.9996 - val_loss: 0.4192 - val_accuracy: 0.8762\n",
            "Epoch 18/20\n",
            "157/157 [==============================] - 32s 206ms/step - loss: 0.0016 - accuracy: 1.0000 - val_loss: 0.4077 - val_accuracy: 0.8780\n",
            "Epoch 19/20\n",
            "157/157 [==============================] - 32s 206ms/step - loss: 8.9875e-04 - accuracy: 1.0000 - val_loss: 0.4049 - val_accuracy: 0.8850\n",
            "Epoch 20/20\n",
            "157/157 [==============================] - 32s 206ms/step - loss: 6.5946e-04 - accuracy: 1.0000 - val_loss: 0.4217 - val_accuracy: 0.8828\n"
          ],
          "name": "stdout"
        }
      ]
    },
    {
      "cell_type": "code",
      "metadata": {
        "id": "1qQScGlT7vFj",
        "colab_type": "code",
        "outputId": "e5417e7a-5bba-45d2-ea02-dc9eb6a32825",
        "colab": {
          "base_uri": "https://localhost:8080/",
          "height": 544
        }
      },
      "source": [
        "import matplotlib.pyplot as plt\n",
        "\n",
        "\n",
        "def plot_graphs(history, string):\n",
        "  plt.plot(history.history[string])\n",
        "  plt.plot(history.history['val_'+string])\n",
        "  plt.xlabel(\"Epochs\")\n",
        "  plt.ylabel(string)\n",
        "  plt.legend([string, 'val_'+string])\n",
        "  plt.show()\n",
        "  \n",
        "plot_graphs(history, \"accuracy\")\n",
        "plot_graphs(history, \"loss\")"
      ],
      "execution_count": 21,
      "outputs": [
        {
          "output_type": "display_data",
          "data": {
            "image/png": "[encoded data removed]",
            "text/plain": [
              "<Figure size 432x288 with 1 Axes>"
            ]
          },
          "metadata": {
            "tags": [],
            "needs_background": "light"
          }
        },
        {
          "output_type": "display_data",
          "data": {
            "image/png": "[encoded data removed]",
            "text/plain": [
              "<Figure size 432x288 with 1 Axes>"
            ]
          },
          "metadata": {
            "tags": [],
            "needs_background": "light"
          }
        }
      ]
    },
    {
      "cell_type": "code",
      "metadata": {
        "id": "ZmcdYGlDKZce",
        "colab_type": "code",
        "colab": {}
      },
      "source": [
        "loc = '/content/aclImdb/test/pos'\n",
        "os.chdir(loc)\n",
        "filelist = os.listdir()\n",
        "\n",
        "test_reviews_pos = []\n",
        "test_labels_pos = []\n",
        "\n",
        "for f in filelist:\n",
        "  with open (f, \"r\") as myfile:\n",
        "    test_labels_pos.append(1)\n",
        "    review = myfile.read()\n",
        "    for word in stopwords:\n",
        "            token = \" \" + word + \" \"\n",
        "            review = review.replace(token, \" \")\n",
        "            review = review.replace(\"  \", \" \")\n",
        "    test_reviews_pos.append(review)\n",
        "\n",
        "loc = '/content/aclImdb/test/neg'\n",
        "os.chdir(loc)\n",
        "filelist = os.listdir()\n",
        "\n",
        "test_reviews_neg = []\n",
        "test_labels_neg = []\n",
        "\n",
        "for f in filelist:\n",
        "  with open (f, \"r\") as myfile:\n",
        "    test_labels_neg.append(0)\n",
        "    review = myfile.read()\n",
        "    for word in stopwords:\n",
        "            token = \" \" + word + \" \"\n",
        "            review = review.replace(token, \" \")\n",
        "            review = review.replace(\"  \", \" \")\n",
        "    test_reviews_neg.append(review)"
      ],
      "execution_count": 0,
      "outputs": []
    },
    {
      "cell_type": "code",
      "metadata": {
        "id": "fRcDYkM0LQnz",
        "colab_type": "code",
        "colab": {}
      },
      "source": [
        "test_reviews = test_reviews_pos + test_reviews_neg\n",
        "test_labels = test_labels_pos + test_labels_neg\n",
        "\n",
        "denoised_test_reviews = []\n",
        "\n",
        "for review in test_reviews:\n",
        "  denoised_test_reviews.append(preprocess(review))\n",
        "\n",
        "dataframe_test = pd.DataFrame(\n",
        "    {'reviews': denoised_test_reviews,\n",
        "     'labels': test_labels,\n",
        "    })"
      ],
      "execution_count": 0,
      "outputs": []
    },
    {
      "cell_type": "code",
      "metadata": {
        "id": "vW7KxWGRPRwm",
        "colab_type": "code",
        "colab": {}
      },
      "source": [
        "dataframe_test = shuffle(dataframe_test).reset_index(drop=True)"
      ],
      "execution_count": 0,
      "outputs": []
    },
    {
      "cell_type": "code",
      "metadata": {
        "id": "uBPykKaTPVyx",
        "colab_type": "code",
        "colab": {}
      },
      "source": [
        "test_sentences = dataframe_test['reviews']\n",
        "test_labels = dataframe_test['labels']"
      ],
      "execution_count": 0,
      "outputs": []
    },
    {
      "cell_type": "code",
      "metadata": {
        "id": "gb_N4GSkPgjq",
        "colab_type": "code",
        "colab": {}
      },
      "source": [
        "test_sequences = tokenizer.texts_to_sequences(test_sentences)\n",
        "test_padded = pad_sequences(test_sequences, padding=padding_type, maxlen=max_length)"
      ],
      "execution_count": 0,
      "outputs": []
    },
    {
      "cell_type": "code",
      "metadata": {
        "id": "ots_PADcP6X9",
        "colab_type": "code",
        "outputId": "d9d9f9fc-d8e1-4de6-8552-dff964171e16",
        "colab": {
          "base_uri": "https://localhost:8080/",
          "height": 72
        }
      },
      "source": [
        "test_loss, test_acc = model.evaluate(test_padded, test_labels)\n",
        "print('Test loss:', test_loss)\n",
        "print('Test accuracy:', test_acc)"
      ],
      "execution_count": 27,
      "outputs": [
        {
          "output_type": "stream",
          "text": [
            "782/782 [==============================] - 15s 20ms/step - loss: 0.4671 - accuracy: 0.8671\n",
            "Test loss: 0.4671429991722107\n",
            "Test accuracy: 0.8670799732208252\n"
          ],
          "name": "stdout"
        }
      ]
    },
    {
      "cell_type": "code",
      "metadata": {
        "id": "VHGCDVSwIjsG",
        "colab_type": "code",
        "outputId": "b93f12de-dfa0-4e37-9364-4e4cb75c10e7",
        "colab": {
          "base_uri": "https://localhost:8080/",
          "height": 35
        }
      },
      "source": [
        "Review = 'Where to begin? This headliner at the Fecal Film Festival is without a doubt the worst thing I have ever seen. Entirely without any redeeming value whatsoever, not even camp value mind you... this film lacks any substantive plot or story line that is discernable, nor comprehendable dialogue, nor even interest as a soft core porno.' #@param {type:\"string\"}\n",
        "Review = preprocess(Review)\n",
        "Review = tokenizer.texts_to_sequences([Review])\n",
        "Review = pad_sequences(Review, padding=padding_type, maxlen=max_length)\n",
        "prediction = model.predict(Review)\n",
        "print(prediction)"
      ],
      "execution_count": 28,
      "outputs": [
        {
          "output_type": "stream",
          "text": [
            "[[0.00023831]]\n"
          ],
          "name": "stdout"
        }
      ]
    },
    {
      "cell_type": "code",
      "metadata": {
        "id": "7W5MkQtMFmNW",
        "colab_type": "code",
        "colab": {}
      },
      "source": [
        ""
      ],
      "execution_count": 0,
      "outputs": []
    }
  ]
}