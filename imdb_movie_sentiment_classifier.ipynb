{
  "nbformat": 4,
  "nbformat_minor": 0,
  "metadata": {
    "colab": {
      "name": "imdb_movie_sentiment_classifier.ipynb",
      "provenance": [],
      "collapsed_sections": [],
      "mount_file_id": "1ZWxtz6JKvzQhFH0H6fTpWstkyG64EGlU",
      "authorship_tag": "ABX9TyOCjjQ2Z7bLr0/aJIoEhO0U",
      "include_colab_link": true
    },
    "kernelspec": {
      "name": "python3",
      "display_name": "Python 3"
    },
    "accelerator": "GPU"
  },
  "cells": [
    {
      "cell_type": "markdown",
      "metadata": {
        "id": "view-in-github",
        "colab_type": "text"
      },
      "source": [
        "<a href=\"https://colab.research.google.com/github/stochasticats/imdb-review-sentiment-classifier/blob/master/imdb_movie_sentiment_classifier.ipynb\" target=\"_parent\"><img src=\"https://colab.research.google.com/assets/colab-badge.svg\" alt=\"Open In Colab\"/></a>"
      ]
    },
    {
      "cell_type": "markdown",
      "metadata": {
        "id": "u848e4r3yGzx",
        "colab_type": "text"
      },
      "source": [
        "# IMDb Movie Review Sentiment Classification\n",
        "This Google colab notebook is for developing a deep learning model to classify movie reviews as positive or negative using the data set provided here http://ai.stanford.edu/~amaas/data/sentiment/\n",
        "\n",
        "First we establish the libraries to be used."
      ]
    },
    {
      "cell_type": "code",
      "metadata": {
        "id": "AXTjalB6kRNX",
        "colab_type": "code",
        "colab": {
          "base_uri": "https://localhost:8080/",
          "height": 35
        },
        "outputId": "76475703-a97b-4a84-b92e-7ba4a0db70a3"
      },
      "source": [
        "import numpy as np\n",
        "import pandas as pd\n",
        "import tensorflow as tf\n",
        "print(tf.__version__)\n",
        "import os\n",
        "import shutil\n",
        "import matplotlib.pyplot as plt\n",
        "import random\n",
        "from tensorflow.keras.preprocessing.text import Tokenizer\n",
        "from tensorflow.keras.preprocessing.sequence import pad_sequences"
      ],
      "execution_count": 1,
      "outputs": [
        {
          "output_type": "stream",
          "text": [
            "2.2.0\n"
          ],
          "name": "stdout"
        }
      ]
    },
    {
      "cell_type": "markdown",
      "metadata": {
        "id": "pXHMhP8ByFRW",
        "colab_type": "text"
      },
      "source": [
        "We download the zipped data from ai.stanford"
      ]
    },
    {
      "cell_type": "code",
      "metadata": {
        "id": "47qGhpxglceY",
        "colab_type": "code",
        "colab": {
          "base_uri": "https://localhost:8080/",
          "height": 219
        },
        "outputId": "fe8573d4-331a-4ba4-b098-acaca70a91ad"
      },
      "source": [
        "!wget \"http://ai.stanford.edu/~amaas/data/sentiment/aclImdb_v1.tar.gz\""
      ],
      "execution_count": 2,
      "outputs": [
        {
          "output_type": "stream",
          "text": [
            "--2020-06-01 04:53:15--  http://ai.stanford.edu/~amaas/data/sentiment/aclImdb_v1.tar.gz\n",
            "Resolving ai.stanford.edu (ai.stanford.edu)... 171.64.68.10\n",
            "Connecting to ai.stanford.edu (ai.stanford.edu)|171.64.68.10|:80... connected.\n",
            "HTTP request sent, awaiting response... 200 OK\n",
            "Length: 84125825 (80M) [application/x-gzip]\n",
            "Saving to: ‘aclImdb_v1.tar.gz’\n",
            "\n",
            "aclImdb_v1.tar.gz   100%[===================>]  80.23M  19.5MB/s    in 6.7s    \n",
            "\n",
            "2020-06-01 04:53:22 (12.0 MB/s) - ‘aclImdb_v1.tar.gz’ saved [84125825/84125825]\n",
            "\n"
          ],
          "name": "stdout"
        }
      ]
    },
    {
      "cell_type": "code",
      "metadata": {
        "id": "pqKBxqhwpvHp",
        "colab_type": "code",
        "colab": {}
      },
      "source": [
        "%%capture\n",
        "!tar -xvf \"/content/aclImdb_v1.tar.gz\""
      ],
      "execution_count": 0,
      "outputs": []
    },
    {
      "cell_type": "markdown",
      "metadata": {
        "id": "qKstJX53zU_o",
        "colab_type": "text"
      },
      "source": [
        "Here I establish stopwords, these are words that will add no meaning to the reviews"
      ]
    },
    {
      "cell_type": "code",
      "metadata": {
        "id": "rjSHgttdqPw6",
        "colab_type": "code",
        "colab": {}
      },
      "source": [
        "stopwords = [\"a\", \"about\", \"above\", \"after\", \"again\", \"against\", \"all\", \"am\", \"an\", \"and\", \"any\", \"are\", \"as\", \"at\", \"be\", \"because\", \"been\", \"before\", \"being\", \"below\", \"between\", \"both\", \"but\", \"by\", \"could\", \"did\", \"do\", \"does\", \"doing\", \"down\", \"during\", \"each\", \"few\", \"for\", \"from\", \"further\", \"had\", \"has\", \"have\", \"having\", \"he\", \"he'd\", \"he'll\", \"he's\", \"her\", \"here\", \"here's\", \"hers\", \"herself\", \"him\", \"himself\", \"his\", \"how\", \"how's\", \"i\", \"i'd\", \"i'll\", \"i'm\", \"i've\", \"if\", \"in\", \"into\", \"is\", \"it\", \"it's\", \"its\", \"itself\", \"let's\", \"me\", \"more\", \"most\", \"my\", \"myself\", \"nor\", \"of\", \"on\", \"once\", \"only\", \"or\", \"other\", \"ought\", \"our\", \"ours\", \"ourselves\", \"out\", \"over\", \"own\", \"same\", \"she\", \"she'd\", \"she'll\", \"she's\", \"should\", \"so\", \"some\", \"such\", \"than\", \"that\", \"that's\", \"the\", \"their\", \"theirs\", \"them\", \"themselves\", \"then\", \"there\", \"there's\", \"these\", \"they\", \"they'd\", \"they'll\", \"they're\", \"they've\", \"this\", \"those\", \"through\", \"to\", \"too\", \"under\", \"until\", \"up\", \"very\", \"was\", \"we\", \"we'd\", \"we'll\", \"we're\", \"we've\", \"were\", \"what\", \"what's\", \"when\", \"when's\", \"where\", \"where's\", \"which\", \"while\", \"who\", \"who's\", \"whom\", \"why\", \"why's\", \"with\", \"would\", \"you\", \"you'd\", \"you'll\", \"you're\", \"you've\", \"your\", \"yours\", \"yourself\", \"yourselves\" ]"
      ],
      "execution_count": 0,
      "outputs": []
    },
    {
      "cell_type": "markdown",
      "metadata": {
        "id": "J2ErydAP1F4o",
        "colab_type": "text"
      },
      "source": [
        "Let's load the training data, which is conveniently in two folders based on the sentiment classification."
      ]
    },
    {
      "cell_type": "code",
      "metadata": {
        "id": "l2M45Oikqv7f",
        "colab_type": "code",
        "colab": {}
      },
      "source": [
        "loc = '/content/aclImdb/train/pos'\n",
        "os.chdir(loc)\n",
        "filelist = os.listdir()\n",
        "\n",
        "reviews_pos = []\n",
        "labels_pos = []\n",
        "\n",
        "for f in filelist:\n",
        "  with open (f, \"r\") as myfile:\n",
        "    labels_pos.append(1)\n",
        "    review = myfile.read()\n",
        "    for word in stopwords:\n",
        "            token = \" \" + word + \" \"\n",
        "            review = review.replace(token, \" \")\n",
        "            review = review.replace(\"  \", \" \")\n",
        "    reviews_pos.append(review)\n",
        "\n",
        "loc = '/content/aclImdb/train/neg'\n",
        "os.chdir(loc)\n",
        "filelist = os.listdir()\n",
        "\n",
        "reviews_neg = []\n",
        "labels_neg = []\n",
        "\n",
        "for f in filelist:\n",
        "  with open (f, \"r\") as myfile:\n",
        "    labels_neg.append(0)\n",
        "    review = myfile.read()\n",
        "    for word in stopwords:\n",
        "            token = \" \" + word + \" \"\n",
        "            review = review.replace(token, \" \")\n",
        "            review = review.replace(\"  \", \" \")\n",
        "    reviews_neg.append(review)"
      ],
      "execution_count": 0,
      "outputs": []
    },
    {
      "cell_type": "code",
      "metadata": {
        "id": "UGmYhQPzrzyt",
        "colab_type": "code",
        "colab": {
          "base_uri": "https://localhost:8080/",
          "height": 257
        },
        "outputId": "b8250cf5-b948-426a-aeab-f35e1285abe8"
      },
      "source": [
        "randn = random.randint(0,len(reviews_pos))\n",
        "\n",
        "print(\"Length of reviews that are positive:\")\n",
        "print(len(reviews_pos))\n",
        "print(\"Example of a positive review:\")\n",
        "print(reviews_pos[randn])\n",
        "print(\"The label:\")\n",
        "print(labels_pos[randn])\n",
        "print(\"Length of reviews that are positive:\")\n",
        "print(len(reviews_neg))\n",
        "print(\"Example of a negative review:\")\n",
        "print(reviews_neg[randn])\n",
        "print(\"The label:\")\n",
        "print(labels_neg[randn])"
      ],
      "execution_count": 6,
      "outputs": [
        {
          "output_type": "stream",
          "text": [
            "Length of reviews that are positive:\n",
            "12500\n",
            "Example of a positive review:\n",
            "I watched July even Christmas theme, found touching sensitive. It not someone reality-mind full fantasy lovely moments sometimes don't make sense. William Russ grand job Hank. I seen remake The Long, Hot Summer played weak character. But one, expression eyes throughout, Hank considered things happening him, wonderful tender. Valerie Bertinelli excellent lovely usual believable role. And Peter Falk Max splendid always brought smile appeared number important scenes. There many special scenes, including one Hank realizes Max really life. It's not everyone.....especially aren't 'feel-good' movies definitely one! If like everything perfect make sense, avoid one. But I think well-worth re-watching, I taped it. (Yes, us still VCRs. :)\n",
            "The label:\n",
            "1\n",
            "Length of reviews that are positive:\n",
            "12500\n",
            "Example of a negative review:\n",
            "This movie bad, can compared all-time worst \"comedy\": Police Academy 7. No laughs throughout movie. Do something worthwhile, anything really. Just don't waste time garbage.\n",
            "The label:\n",
            "0\n"
          ],
          "name": "stdout"
        }
      ]
    },
    {
      "cell_type": "markdown",
      "metadata": {
        "id": "1cggsVMe00AU",
        "colab_type": "text"
      },
      "source": [
        "We have 25,000 reviews in total, 12,500 positive and 12,500 negative. As we can see, our reviews need some processing for the deep learning model.  We need to take out the digits and special characters.\n",
        "\n",
        "Here's a function to use to process the data."
      ]
    },
    {
      "cell_type": "code",
      "metadata": {
        "id": "3-ttH0fPvh5e",
        "colab_type": "code",
        "colab": {}
      },
      "source": [
        "import spacy\n",
        "import re,string,unicodedata\n",
        "\n",
        "def preprocess(text):\n",
        "    text = re.sub('<[^>]*>', '',text)\n",
        "    emoticons = re.findall('(?::|;|=)(?:-)?(?:\\)|\\(|D|P)', text)\n",
        "    text=re.sub('[\\W]+',' ',text.lower()) +\\\n",
        "       ' '.join(emoticons).replace('-','')  \n",
        "    return text"
      ],
      "execution_count": 0,
      "outputs": []
    },
    {
      "cell_type": "code",
      "metadata": {
        "id": "9ZUZ8RKJ1_u7",
        "colab_type": "code",
        "colab": {}
      },
      "source": [
        "reviews = reviews_pos + reviews_neg\n",
        "labels = labels_pos + labels_neg"
      ],
      "execution_count": 0,
      "outputs": []
    },
    {
      "cell_type": "code",
      "metadata": {
        "id": "zqARNGomxfJX",
        "colab_type": "code",
        "colab": {}
      },
      "source": [
        "denoised_reviews = []\n",
        "\n",
        "for review in reviews:\n",
        "  denoised_reviews.append(preprocess(review))"
      ],
      "execution_count": 0,
      "outputs": []
    },
    {
      "cell_type": "markdown",
      "metadata": {
        "id": "iOtZ2V3JDzrM",
        "colab_type": "text"
      },
      "source": [
        "Let's put it into a single data frame and take a look."
      ]
    },
    {
      "cell_type": "code",
      "metadata": {
        "id": "wTWHcQf43jBQ",
        "colab_type": "code",
        "colab": {}
      },
      "source": [
        "dataframe = pd.DataFrame(\n",
        "    {'reviews': denoised_reviews,\n",
        "     'labels': labels,\n",
        "    })\n",
        "from sklearn.utils import shuffle\n",
        "dataframe = shuffle(dataframe).reset_index(drop=True)"
      ],
      "execution_count": 0,
      "outputs": []
    },
    {
      "cell_type": "code",
      "metadata": {
        "id": "nOra71A34Pr-",
        "colab_type": "code",
        "colab": {
          "base_uri": "https://localhost:8080/",
          "height": 677
        },
        "outputId": "6826b082-6c3e-4b78-cb57-3de317ec085c"
      },
      "source": [
        "dataframe.head(20)"
      ],
      "execution_count": 11,
      "outputs": [
        {
          "output_type": "execute_result",
          "data": {
            "text/html": [
              "<div>\n",
              "<style scoped>\n",
              "    .dataframe tbody tr th:only-of-type {\n",
              "        vertical-align: middle;\n",
              "    }\n",
              "\n",
              "    .dataframe tbody tr th {\n",
              "        vertical-align: top;\n",
              "    }\n",
              "\n",
              "    .dataframe thead th {\n",
              "        text-align: right;\n",
              "    }\n",
              "</style>\n",
              "<table border=\"1\" class=\"dataframe\">\n",
              "  <thead>\n",
              "    <tr style=\"text-align: right;\">\n",
              "      <th></th>\n",
              "      <th>reviews</th>\n",
              "      <th>labels</th>\n",
              "    </tr>\n",
              "  </thead>\n",
              "  <tbody>\n",
              "    <tr>\n",
              "      <th>0</th>\n",
              "      <td>it s funny it great cast give great performanc...</td>\n",
              "      <td>1</td>\n",
              "    </tr>\n",
              "    <tr>\n",
              "      <th>1</th>\n",
              "      <td>the problem family dramas that outside tv movi...</td>\n",
              "      <td>0</td>\n",
              "    </tr>\n",
              "    <tr>\n",
              "      <th>2</th>\n",
              "      <td>ah spirit 68 the streets paris running wild re...</td>\n",
              "      <td>0</td>\n",
              "    </tr>\n",
              "    <tr>\n",
              "      <th>3</th>\n",
              "      <td>soylent green classic i waiting someone re do ...</td>\n",
              "      <td>1</td>\n",
              "    </tr>\n",
              "    <tr>\n",
              "      <th>4</th>\n",
              "      <td>i opportunity see film debut appalachian film ...</td>\n",
              "      <td>1</td>\n",
              "    </tr>\n",
              "    <tr>\n",
              "      <th>5</th>\n",
              "      <td>i don t understand not critic not evaluating q...</td>\n",
              "      <td>1</td>\n",
              "    </tr>\n",
              "    <tr>\n",
              "      <th>6</th>\n",
              "      <td>what long drawn out pointless movie i m sure h...</td>\n",
              "      <td>0</td>\n",
              "    </tr>\n",
              "    <tr>\n",
              "      <th>7</th>\n",
              "      <td>first off i m not dog movie i find totally enj...</td>\n",
              "      <td>0</td>\n",
              "    </tr>\n",
              "    <tr>\n",
              "      <th>8</th>\n",
              "      <td>come undone appears elicit lot opinions among...</td>\n",
              "      <td>1</td>\n",
              "    </tr>\n",
              "    <tr>\n",
              "      <th>9</th>\n",
              "      <td>an obvious b grade effort cash hostel saw buzz...</td>\n",
              "      <td>0</td>\n",
              "    </tr>\n",
              "    <tr>\n",
              "      <th>10</th>\n",
              "      <td>after reading previous comments i m just glad ...</td>\n",
              "      <td>0</td>\n",
              "    </tr>\n",
              "    <tr>\n",
              "      <th>11</th>\n",
              "      <td>at time writing review seem 50 imdb voters giv...</td>\n",
              "      <td>0</td>\n",
              "    </tr>\n",
              "    <tr>\n",
              "      <th>12</th>\n",
              "      <td>spoilers spoilers juggernaut british made thr...</td>\n",
              "      <td>0</td>\n",
              "    </tr>\n",
              "    <tr>\n",
              "      <th>13</th>\n",
              "      <td>okay truthfully i saw previews movie thought m...</td>\n",
              "      <td>1</td>\n",
              "    </tr>\n",
              "    <tr>\n",
              "      <th>14</th>\n",
              "      <td>i couldn t not recommend christmas movie worth...</td>\n",
              "      <td>0</td>\n",
              "    </tr>\n",
              "    <tr>\n",
              "      <th>15</th>\n",
              "      <td>this movie ripoff james cain s novel the postm...</td>\n",
              "      <td>1</td>\n",
              "    </tr>\n",
              "    <tr>\n",
              "      <th>16</th>\n",
              "      <td>it s road movie killer on board brian kessler ...</td>\n",
              "      <td>1</td>\n",
              "    </tr>\n",
              "    <tr>\n",
              "      <th>17</th>\n",
              "      <td>i ve impressed chavez s stance globalisation s...</td>\n",
              "      <td>1</td>\n",
              "    </tr>\n",
              "    <tr>\n",
              "      <th>18</th>\n",
              "      <td>hardcastle mccormick excellent tv show yes pre...</td>\n",
              "      <td>1</td>\n",
              "    </tr>\n",
              "    <tr>\n",
              "      <th>19</th>\n",
              "      <td>first like say that know share star wars not f...</td>\n",
              "      <td>1</td>\n",
              "    </tr>\n",
              "  </tbody>\n",
              "</table>\n",
              "</div>"
            ],
            "text/plain": [
              "                                              reviews  labels\n",
              "0   it s funny it great cast give great performanc...       1\n",
              "1   the problem family dramas that outside tv movi...       0\n",
              "2   ah spirit 68 the streets paris running wild re...       0\n",
              "3   soylent green classic i waiting someone re do ...       1\n",
              "4   i opportunity see film debut appalachian film ...       1\n",
              "5   i don t understand not critic not evaluating q...       1\n",
              "6   what long drawn out pointless movie i m sure h...       0\n",
              "7   first off i m not dog movie i find totally enj...       0\n",
              "8    come undone appears elicit lot opinions among...       1\n",
              "9   an obvious b grade effort cash hostel saw buzz...       0\n",
              "10  after reading previous comments i m just glad ...       0\n",
              "11  at time writing review seem 50 imdb voters giv...       0\n",
              "12   spoilers spoilers juggernaut british made thr...       0\n",
              "13  okay truthfully i saw previews movie thought m...       1\n",
              "14  i couldn t not recommend christmas movie worth...       0\n",
              "15  this movie ripoff james cain s novel the postm...       1\n",
              "16  it s road movie killer on board brian kessler ...       1\n",
              "17  i ve impressed chavez s stance globalisation s...       1\n",
              "18  hardcastle mccormick excellent tv show yes pre...       1\n",
              "19  first like say that know share star wars not f...       1"
            ]
          },
          "metadata": {
            "tags": []
          },
          "execution_count": 11
        }
      ]
    },
    {
      "cell_type": "markdown",
      "metadata": {
        "id": "d9Q-5E-LD4Lg",
        "colab_type": "text"
      },
      "source": [
        "Let's take a look at the distribution of review length."
      ]
    },
    {
      "cell_type": "code",
      "metadata": {
        "id": "Lv7sSyZGEeyK",
        "colab_type": "code",
        "colab": {
          "base_uri": "https://localhost:8080/",
          "height": 404
        },
        "outputId": "b2475803-f53c-4937-fd3e-98e68c06bb81"
      },
      "source": [
        "plt.figure(figsize=(10, 6))\n",
        "plt.hist([len(review) for review in dataframe['reviews']], 50)\n",
        "plt.xlabel('Length of reviews')\n",
        "plt.ylabel('Number of reviews')\n",
        "plt.title('Review length distribution')\n",
        "plt.show()"
      ],
      "execution_count": 12,
      "outputs": [
        {
          "output_type": "display_data",
          "data": {
            "image/png": "[encoded data removed]",
            "text/plain": [
              "<Figure size 720x432 with 1 Axes>"
            ]
          },
          "metadata": {
            "tags": [],
            "needs_background": "light"
          }
        }
      ]
    },
    {
      "cell_type": "markdown",
      "metadata": {
        "id": "E4mmyMzJEpL3",
        "colab_type": "text"
      },
      "source": [
        "There seems to be a peak at around length ~1000, meaning there's a lot of reviews with length ~1000. "
      ]
    },
    {
      "cell_type": "code",
      "metadata": {
        "id": "QNK2imoXFGDw",
        "colab_type": "code",
        "colab": {
          "base_uri": "https://localhost:8080/",
          "height": 1000
        },
        "outputId": "609bd376-f336-4508-c7ee-47fb71405d15"
      },
      "source": [
        "from sklearn.feature_extraction.text import CountVectorizer\n",
        "vectorizer = CountVectorizer()\n",
        "# So, we get such structure:\n",
        "#        | word1  | word2  |  word3 | word4\n",
        "# text1  |   1    |    1   |   1    |   0\n",
        "# text2  |   0    |    1   |   1    |   0\n",
        "# text3  |   2    |    1   |   0    |   0\n",
        "# text4  |   0    |    0   |   0    |   1\n",
        "vect_texts = vectorizer.fit_transform(list(dataframe['reviews']))\n",
        "# ['word1', 'word2', 'word3', 'word4']\n",
        "all_ngrams = vectorizer.get_feature_names()\n",
        "num_ngrams = min(50, len(all_ngrams))\n",
        "all_counts = vect_texts.sum(axis=0).tolist()[0]\n",
        "\n",
        "all_ngrams, all_counts = zip(*[(n, c) for c, n in sorted(zip(all_counts, all_ngrams), reverse=True)])\n",
        "ngrams = all_ngrams[:num_ngrams]\n",
        "counts = all_counts[:num_ngrams]\n",
        "\n",
        "idx = np.arange(num_ngrams)\n",
        "\n",
        "# Let's now plot a frequency distribution plot of the most seen words in the corpus.\n",
        "plt.figure(figsize=(30, 30))\n",
        "plt.bar(idx, counts, width=0.8)\n",
        "plt.xlabel('N-grams')\n",
        "plt.ylabel('Frequencies')\n",
        "plt.title('Frequency distribution of ngrams')\n",
        "plt.xticks(idx, ngrams, rotation=45)\n",
        "plt.show()"
      ],
      "execution_count": 13,
      "outputs": [
        {
          "output_type": "display_data",
          "data": {
            "image/png": "[encoded data removed]",
            "text/plain": [
              "<Figure size 2160x2160 with 1 Axes>"
            ]
          },
          "metadata": {
            "tags": [],
            "needs_background": "light"
          }
        }
      ]
    },
    {
      "cell_type": "code",
      "metadata": {
        "id": "Buy9xXcV4s8D",
        "colab_type": "code",
        "colab": {}
      },
      "source": [
        "vocab_size = 2500\n",
        "embedding_dim = 128\n",
        "max_length = 1500\n",
        "trunc_type='post'\n",
        "padding_type='post'\n",
        "oov_tok = \"<OOV>\""
      ],
      "execution_count": 0,
      "outputs": []
    },
    {
      "cell_type": "code",
      "metadata": {
        "id": "qkjY0MM64UpE",
        "colab_type": "code",
        "colab": {}
      },
      "source": [
        "from sklearn.model_selection import train_test_split\n",
        "X_train, X_valid, y_train, y_valid = train_test_split(dataframe['reviews'], dataframe['labels'], test_size=0.2, random_state=42)"
      ],
      "execution_count": 0,
      "outputs": []
    },
    {
      "cell_type": "code",
      "metadata": {
        "id": "LBZe1mPn6i3a",
        "colab_type": "code",
        "colab": {
          "base_uri": "https://localhost:8080/",
          "height": 90
        },
        "outputId": "072196e0-eea2-4595-a9f9-fce879939da1"
      },
      "source": [
        "print(len(X_train))\n",
        "print(len(y_train))\n",
        "print(len(X_valid))\n",
        "print(len(y_valid))"
      ],
      "execution_count": 16,
      "outputs": [
        {
          "output_type": "stream",
          "text": [
            "20000\n",
            "20000\n",
            "5000\n",
            "5000\n"
          ],
          "name": "stdout"
        }
      ]
    },
    {
      "cell_type": "code",
      "metadata": {
        "id": "L1Bquxg66mx9",
        "colab_type": "code",
        "colab": {
          "base_uri": "https://localhost:8080/",
          "height": 127
        },
        "outputId": "e59549c0-4414-4dd5-f860-177adefa2bdf"
      },
      "source": [
        "tokenizer = Tokenizer(num_words = vocab_size, oov_token=oov_tok)\n",
        "tokenizer.fit_on_texts(X_train)\n",
        "word_index = tokenizer.word_index\n",
        "\n",
        "X_train_seqs = tokenizer.texts_to_sequences(X_train)\n",
        "X_train_padded = pad_sequences(X_train_seqs, padding=padding_type, maxlen=max_length)\n",
        "\n",
        "print(len(X_train_seqs[0]))\n",
        "print(len(X_train_padded[0]))\n",
        "\n",
        "print(len(X_train_seqs[600]))\n",
        "print(len(X_train_padded[600]))\n",
        "\n",
        "print(len(X_train_seqs[10000]))\n",
        "print(len(X_train_padded[10000]))"
      ],
      "execution_count": 17,
      "outputs": [
        {
          "output_type": "stream",
          "text": [
            "135\n",
            "1500\n",
            "215\n",
            "1500\n",
            "96\n",
            "1500\n"
          ],
          "name": "stdout"
        }
      ]
    },
    {
      "cell_type": "code",
      "metadata": {
        "id": "13jNasaq6qRq",
        "colab_type": "code",
        "colab": {
          "base_uri": "https://localhost:8080/",
          "height": 54
        },
        "outputId": "38fe1c2f-eaa2-4467-b3f6-1754850cab5b"
      },
      "source": [
        "X_valid_seqs = tokenizer.texts_to_sequences(X_valid)\n",
        "X_valid_padded = pad_sequences(X_valid_seqs, padding=padding_type, maxlen=max_length)\n",
        "\n",
        "print(len(X_valid_seqs))\n",
        "print(X_valid_padded.shape)"
      ],
      "execution_count": 18,
      "outputs": [
        {
          "output_type": "stream",
          "text": [
            "5000\n",
            "(5000, 1500)\n"
          ],
          "name": "stdout"
        }
      ]
    },
    {
      "cell_type": "code",
      "metadata": {
        "id": "n2Dq_wSV61zO",
        "colab_type": "code",
        "colab": {
          "base_uri": "https://localhost:8080/",
          "height": 421
        },
        "outputId": "304a5261-1598-46c8-91a9-4e7657c1d81f"
      },
      "source": [
        "model = tf.keras.Sequential([\n",
        "    tf.keras.layers.Embedding(vocab_size, embedding_dim, input_length=max_length),\n",
        "    tf.keras.layers.GlobalAveragePooling1D(),\n",
        "    #tf.keras.layers.Flatten(),\n",
        "    tf.keras.layers.Dropout(0.2),\n",
        "    tf.keras.layers.Dense(32, activation='relu'),\n",
        "    tf.keras.layers.Dropout(0.2),\n",
        "    tf.keras.layers.Dense(24, activation='relu'),\n",
        "    tf.keras.layers.Dense(1, activation='sigmoid')\n",
        "])\n",
        "model.compile(loss=\"binary_crossentropy\",optimizer='adam',metrics=['accuracy'])\n",
        "model.summary()"
      ],
      "execution_count": 40,
      "outputs": [
        {
          "output_type": "stream",
          "text": [
            "Model: \"sequential_2\"\n",
            "_________________________________________________________________\n",
            "Layer (type)                 Output Shape              Param #   \n",
            "=================================================================\n",
            "embedding_2 (Embedding)      (None, 1500, 128)         320000    \n",
            "_________________________________________________________________\n",
            "global_average_pooling1d_1 ( (None, 128)               0         \n",
            "_________________________________________________________________\n",
            "dropout_4 (Dropout)          (None, 128)               0         \n",
            "_________________________________________________________________\n",
            "dense_6 (Dense)              (None, 32)                4128      \n",
            "_________________________________________________________________\n",
            "dropout_5 (Dropout)          (None, 32)                0         \n",
            "_________________________________________________________________\n",
            "dense_7 (Dense)              (None, 24)                792       \n",
            "_________________________________________________________________\n",
            "dense_8 (Dense)              (None, 1)                 25        \n",
            "=================================================================\n",
            "Total params: 324,945\n",
            "Trainable params: 324,945\n",
            "Non-trainable params: 0\n",
            "_________________________________________________________________\n"
          ],
          "name": "stdout"
        }
      ]
    },
    {
      "cell_type": "code",
      "metadata": {
        "id": "S8vhiOmq7DAm",
        "colab_type": "code",
        "colab": {
          "base_uri": "https://localhost:8080/",
          "height": 1000
        },
        "outputId": "8bf14951-4c8b-49c6-b3e0-a09fc3245748"
      },
      "source": [
        "num_epochs = 30\n",
        "history = model.fit(X_train_padded, y_train, epochs=num_epochs, validation_data=(X_valid_padded, y_valid), verbose=2)"
      ],
      "execution_count": 39,
      "outputs": [
        {
          "output_type": "stream",
          "text": [
            "Epoch 1/30\n",
            "625/625 - 10s - loss: 0.6987 - accuracy: 0.4945 - val_loss: 0.6931 - val_accuracy: 0.5078\n",
            "Epoch 2/30\n",
            "625/625 - 10s - loss: 0.6871 - accuracy: 0.5172 - val_loss: 0.4520 - val_accuracy: 0.7940\n",
            "Epoch 3/30\n",
            "625/625 - 10s - loss: 0.3553 - accuracy: 0.8539 - val_loss: 0.3253 - val_accuracy: 0.8620\n",
            "Epoch 4/30\n",
            "625/625 - 10s - loss: 0.1913 - accuracy: 0.9270 - val_loss: 0.3686 - val_accuracy: 0.8582\n",
            "Epoch 5/30\n",
            "625/625 - 10s - loss: 0.0771 - accuracy: 0.9736 - val_loss: 0.5436 - val_accuracy: 0.8528\n",
            "Epoch 6/30\n",
            "625/625 - 10s - loss: 0.0299 - accuracy: 0.9902 - val_loss: 0.6787 - val_accuracy: 0.8504\n",
            "Epoch 7/30\n",
            "625/625 - 10s - loss: 0.0225 - accuracy: 0.9920 - val_loss: 0.8505 - val_accuracy: 0.8546\n",
            "Epoch 8/30\n",
            "625/625 - 10s - loss: 0.0182 - accuracy: 0.9942 - val_loss: 0.9993 - val_accuracy: 0.8516\n",
            "Epoch 9/30\n",
            "625/625 - 10s - loss: 0.0157 - accuracy: 0.9951 - val_loss: 1.0413 - val_accuracy: 0.8474\n",
            "Epoch 10/30\n",
            "625/625 - 10s - loss: 0.0169 - accuracy: 0.9942 - val_loss: 1.1144 - val_accuracy: 0.8464\n",
            "Epoch 11/30\n",
            "625/625 - 10s - loss: 0.0151 - accuracy: 0.9944 - val_loss: 1.1138 - val_accuracy: 0.8420\n",
            "Epoch 12/30\n",
            "625/625 - 10s - loss: 0.0145 - accuracy: 0.9954 - val_loss: 1.0089 - val_accuracy: 0.8530\n",
            "Epoch 13/30\n",
            "625/625 - 10s - loss: 0.0084 - accuracy: 0.9970 - val_loss: 1.0936 - val_accuracy: 0.8462\n",
            "Epoch 14/30\n",
            "625/625 - 10s - loss: 0.0103 - accuracy: 0.9965 - val_loss: 1.1909 - val_accuracy: 0.8532\n",
            "Epoch 15/30\n",
            "625/625 - 10s - loss: 0.0118 - accuracy: 0.9963 - val_loss: 1.2119 - val_accuracy: 0.8488\n",
            "Epoch 16/30\n",
            "625/625 - 10s - loss: 0.0116 - accuracy: 0.9963 - val_loss: 1.1505 - val_accuracy: 0.8394\n",
            "Epoch 17/30\n",
            "625/625 - 10s - loss: 0.0133 - accuracy: 0.9959 - val_loss: 0.9472 - val_accuracy: 0.8420\n",
            "Epoch 18/30\n",
            "625/625 - 10s - loss: 0.0065 - accuracy: 0.9975 - val_loss: 1.1857 - val_accuracy: 0.8386\n",
            "Epoch 19/30\n",
            "625/625 - 10s - loss: 0.0089 - accuracy: 0.9965 - val_loss: 1.2885 - val_accuracy: 0.8426\n",
            "Epoch 20/30\n"
          ],
          "name": "stdout"
        },
        {
          "output_type": "error",
          "ename": "KeyboardInterrupt",
          "evalue": "ignored",
          "traceback": [
            "\u001b[0;31m---------------------------------------------------------------------------\u001b[0m",
            "\u001b[0;31mKeyboardInterrupt\u001b[0m                         Traceback (most recent call last)",
            "\u001b[0;32m<ipython-input-39-c99415ea9028>\u001b[0m in \u001b[0;36m<module>\u001b[0;34m()\u001b[0m\n\u001b[1;32m      1\u001b[0m \u001b[0mnum_epochs\u001b[0m \u001b[0;34m=\u001b[0m \u001b[0;36m30\u001b[0m\u001b[0;34m\u001b[0m\u001b[0;34m\u001b[0m\u001b[0m\n\u001b[0;32m----> 2\u001b[0;31m \u001b[0mhistory\u001b[0m \u001b[0;34m=\u001b[0m \u001b[0mmodel\u001b[0m\u001b[0;34m.\u001b[0m\u001b[0mfit\u001b[0m\u001b[0;34m(\u001b[0m\u001b[0mX_train_padded\u001b[0m\u001b[0;34m,\u001b[0m \u001b[0my_train\u001b[0m\u001b[0;34m,\u001b[0m \u001b[0mepochs\u001b[0m\u001b[0;34m=\u001b[0m\u001b[0mnum_epochs\u001b[0m\u001b[0;34m,\u001b[0m \u001b[0mvalidation_data\u001b[0m\u001b[0;34m=\u001b[0m\u001b[0;34m(\u001b[0m\u001b[0mX_valid_padded\u001b[0m\u001b[0;34m,\u001b[0m \u001b[0my_valid\u001b[0m\u001b[0;34m)\u001b[0m\u001b[0;34m,\u001b[0m \u001b[0mverbose\u001b[0m\u001b[0;34m=\u001b[0m\u001b[0;36m2\u001b[0m\u001b[0;34m)\u001b[0m\u001b[0;34m\u001b[0m\u001b[0;34m\u001b[0m\u001b[0m\n\u001b[0m",
            "\u001b[0;32m/usr/local/lib/python3.6/dist-packages/tensorflow/python/keras/engine/training.py\u001b[0m in \u001b[0;36m_method_wrapper\u001b[0;34m(self, *args, **kwargs)\u001b[0m\n\u001b[1;32m     64\u001b[0m   \u001b[0;32mdef\u001b[0m \u001b[0m_method_wrapper\u001b[0m\u001b[0;34m(\u001b[0m\u001b[0mself\u001b[0m\u001b[0;34m,\u001b[0m \u001b[0;34m*\u001b[0m\u001b[0margs\u001b[0m\u001b[0;34m,\u001b[0m \u001b[0;34m**\u001b[0m\u001b[0mkwargs\u001b[0m\u001b[0;34m)\u001b[0m\u001b[0;34m:\u001b[0m\u001b[0;34m\u001b[0m\u001b[0;34m\u001b[0m\u001b[0m\n\u001b[1;32m     65\u001b[0m     \u001b[0;32mif\u001b[0m \u001b[0;32mnot\u001b[0m \u001b[0mself\u001b[0m\u001b[0;34m.\u001b[0m\u001b[0m_in_multi_worker_mode\u001b[0m\u001b[0;34m(\u001b[0m\u001b[0;34m)\u001b[0m\u001b[0;34m:\u001b[0m  \u001b[0;31m# pylint: disable=protected-access\u001b[0m\u001b[0;34m\u001b[0m\u001b[0;34m\u001b[0m\u001b[0m\n\u001b[0;32m---> 66\u001b[0;31m       \u001b[0;32mreturn\u001b[0m \u001b[0mmethod\u001b[0m\u001b[0;34m(\u001b[0m\u001b[0mself\u001b[0m\u001b[0;34m,\u001b[0m \u001b[0;34m*\u001b[0m\u001b[0margs\u001b[0m\u001b[0;34m,\u001b[0m \u001b[0;34m**\u001b[0m\u001b[0mkwargs\u001b[0m\u001b[0;34m)\u001b[0m\u001b[0;34m\u001b[0m\u001b[0;34m\u001b[0m\u001b[0m\n\u001b[0m\u001b[1;32m     67\u001b[0m \u001b[0;34m\u001b[0m\u001b[0m\n\u001b[1;32m     68\u001b[0m     \u001b[0;31m# Running inside `run_distribute_coordinator` already.\u001b[0m\u001b[0;34m\u001b[0m\u001b[0;34m\u001b[0m\u001b[0;34m\u001b[0m\u001b[0m\n",
            "\u001b[0;32m/usr/local/lib/python3.6/dist-packages/tensorflow/python/keras/engine/training.py\u001b[0m in \u001b[0;36mfit\u001b[0;34m(self, x, y, batch_size, epochs, verbose, callbacks, validation_split, validation_data, shuffle, class_weight, sample_weight, initial_epoch, steps_per_epoch, validation_steps, validation_batch_size, validation_freq, max_queue_size, workers, use_multiprocessing)\u001b[0m\n\u001b[1;32m    846\u001b[0m                 batch_size=batch_size):\n\u001b[1;32m    847\u001b[0m               \u001b[0mcallbacks\u001b[0m\u001b[0;34m.\u001b[0m\u001b[0mon_train_batch_begin\u001b[0m\u001b[0;34m(\u001b[0m\u001b[0mstep\u001b[0m\u001b[0;34m)\u001b[0m\u001b[0;34m\u001b[0m\u001b[0;34m\u001b[0m\u001b[0m\n\u001b[0;32m--> 848\u001b[0;31m               \u001b[0mtmp_logs\u001b[0m \u001b[0;34m=\u001b[0m \u001b[0mtrain_function\u001b[0m\u001b[0;34m(\u001b[0m\u001b[0miterator\u001b[0m\u001b[0;34m)\u001b[0m\u001b[0;34m\u001b[0m\u001b[0;34m\u001b[0m\u001b[0m\n\u001b[0m\u001b[1;32m    849\u001b[0m               \u001b[0;31m# Catch OutOfRangeError for Datasets of unknown size.\u001b[0m\u001b[0;34m\u001b[0m\u001b[0;34m\u001b[0m\u001b[0;34m\u001b[0m\u001b[0m\n\u001b[1;32m    850\u001b[0m               \u001b[0;31m# This blocks until the batch has finished executing.\u001b[0m\u001b[0;34m\u001b[0m\u001b[0;34m\u001b[0m\u001b[0;34m\u001b[0m\u001b[0m\n",
            "\u001b[0;32m/usr/local/lib/python3.6/dist-packages/tensorflow/python/eager/def_function.py\u001b[0m in \u001b[0;36m__call__\u001b[0;34m(self, *args, **kwds)\u001b[0m\n\u001b[1;32m    578\u001b[0m         \u001b[0mxla_context\u001b[0m\u001b[0;34m.\u001b[0m\u001b[0mExit\u001b[0m\u001b[0;34m(\u001b[0m\u001b[0;34m)\u001b[0m\u001b[0;34m\u001b[0m\u001b[0;34m\u001b[0m\u001b[0m\n\u001b[1;32m    579\u001b[0m     \u001b[0;32melse\u001b[0m\u001b[0;34m:\u001b[0m\u001b[0;34m\u001b[0m\u001b[0;34m\u001b[0m\u001b[0m\n\u001b[0;32m--> 580\u001b[0;31m       \u001b[0mresult\u001b[0m \u001b[0;34m=\u001b[0m \u001b[0mself\u001b[0m\u001b[0;34m.\u001b[0m\u001b[0m_call\u001b[0m\u001b[0;34m(\u001b[0m\u001b[0;34m*\u001b[0m\u001b[0margs\u001b[0m\u001b[0;34m,\u001b[0m \u001b[0;34m**\u001b[0m\u001b[0mkwds\u001b[0m\u001b[0;34m)\u001b[0m\u001b[0;34m\u001b[0m\u001b[0;34m\u001b[0m\u001b[0m\n\u001b[0m\u001b[1;32m    581\u001b[0m \u001b[0;34m\u001b[0m\u001b[0m\n\u001b[1;32m    582\u001b[0m     \u001b[0;32mif\u001b[0m \u001b[0mtracing_count\u001b[0m \u001b[0;34m==\u001b[0m \u001b[0mself\u001b[0m\u001b[0;34m.\u001b[0m\u001b[0m_get_tracing_count\u001b[0m\u001b[0;34m(\u001b[0m\u001b[0;34m)\u001b[0m\u001b[0;34m:\u001b[0m\u001b[0;34m\u001b[0m\u001b[0;34m\u001b[0m\u001b[0m\n",
            "\u001b[0;32m/usr/local/lib/python3.6/dist-packages/tensorflow/python/eager/def_function.py\u001b[0m in \u001b[0;36m_call\u001b[0;34m(self, *args, **kwds)\u001b[0m\n\u001b[1;32m    609\u001b[0m       \u001b[0;31m# In this case we have created variables on the first call, so we run the\u001b[0m\u001b[0;34m\u001b[0m\u001b[0;34m\u001b[0m\u001b[0;34m\u001b[0m\u001b[0m\n\u001b[1;32m    610\u001b[0m       \u001b[0;31m# defunned version which is guaranteed to never create variables.\u001b[0m\u001b[0;34m\u001b[0m\u001b[0;34m\u001b[0m\u001b[0;34m\u001b[0m\u001b[0m\n\u001b[0;32m--> 611\u001b[0;31m       \u001b[0;32mreturn\u001b[0m \u001b[0mself\u001b[0m\u001b[0;34m.\u001b[0m\u001b[0m_stateless_fn\u001b[0m\u001b[0;34m(\u001b[0m\u001b[0;34m*\u001b[0m\u001b[0margs\u001b[0m\u001b[0;34m,\u001b[0m \u001b[0;34m**\u001b[0m\u001b[0mkwds\u001b[0m\u001b[0;34m)\u001b[0m  \u001b[0;31m# pylint: disable=not-callable\u001b[0m\u001b[0;34m\u001b[0m\u001b[0;34m\u001b[0m\u001b[0m\n\u001b[0m\u001b[1;32m    612\u001b[0m     \u001b[0;32melif\u001b[0m \u001b[0mself\u001b[0m\u001b[0;34m.\u001b[0m\u001b[0m_stateful_fn\u001b[0m \u001b[0;32mis\u001b[0m \u001b[0;32mnot\u001b[0m \u001b[0;32mNone\u001b[0m\u001b[0;34m:\u001b[0m\u001b[0;34m\u001b[0m\u001b[0;34m\u001b[0m\u001b[0m\n\u001b[1;32m    613\u001b[0m       \u001b[0;31m# Release the lock early so that multiple threads can perform the call\u001b[0m\u001b[0;34m\u001b[0m\u001b[0;34m\u001b[0m\u001b[0;34m\u001b[0m\u001b[0m\n",
            "\u001b[0;32m/usr/local/lib/python3.6/dist-packages/tensorflow/python/eager/function.py\u001b[0m in \u001b[0;36m__call__\u001b[0;34m(self, *args, **kwargs)\u001b[0m\n\u001b[1;32m   2418\u001b[0m     \u001b[0;32mwith\u001b[0m \u001b[0mself\u001b[0m\u001b[0;34m.\u001b[0m\u001b[0m_lock\u001b[0m\u001b[0;34m:\u001b[0m\u001b[0;34m\u001b[0m\u001b[0;34m\u001b[0m\u001b[0m\n\u001b[1;32m   2419\u001b[0m       \u001b[0mgraph_function\u001b[0m\u001b[0;34m,\u001b[0m \u001b[0margs\u001b[0m\u001b[0;34m,\u001b[0m \u001b[0mkwargs\u001b[0m \u001b[0;34m=\u001b[0m \u001b[0mself\u001b[0m\u001b[0;34m.\u001b[0m\u001b[0m_maybe_define_function\u001b[0m\u001b[0;34m(\u001b[0m\u001b[0margs\u001b[0m\u001b[0;34m,\u001b[0m \u001b[0mkwargs\u001b[0m\u001b[0;34m)\u001b[0m\u001b[0;34m\u001b[0m\u001b[0;34m\u001b[0m\u001b[0m\n\u001b[0;32m-> 2420\u001b[0;31m     \u001b[0;32mreturn\u001b[0m \u001b[0mgraph_function\u001b[0m\u001b[0;34m.\u001b[0m\u001b[0m_filtered_call\u001b[0m\u001b[0;34m(\u001b[0m\u001b[0margs\u001b[0m\u001b[0;34m,\u001b[0m \u001b[0mkwargs\u001b[0m\u001b[0;34m)\u001b[0m  \u001b[0;31m# pylint: disable=protected-access\u001b[0m\u001b[0;34m\u001b[0m\u001b[0;34m\u001b[0m\u001b[0m\n\u001b[0m\u001b[1;32m   2421\u001b[0m \u001b[0;34m\u001b[0m\u001b[0m\n\u001b[1;32m   2422\u001b[0m   \u001b[0;34m@\u001b[0m\u001b[0mproperty\u001b[0m\u001b[0;34m\u001b[0m\u001b[0;34m\u001b[0m\u001b[0m\n",
            "\u001b[0;32m/usr/local/lib/python3.6/dist-packages/tensorflow/python/eager/function.py\u001b[0m in \u001b[0;36m_filtered_call\u001b[0;34m(self, args, kwargs)\u001b[0m\n\u001b[1;32m   1663\u001b[0m          if isinstance(t, (ops.Tensor,\n\u001b[1;32m   1664\u001b[0m                            resource_variable_ops.BaseResourceVariable))),\n\u001b[0;32m-> 1665\u001b[0;31m         self.captured_inputs)\n\u001b[0m\u001b[1;32m   1666\u001b[0m \u001b[0;34m\u001b[0m\u001b[0m\n\u001b[1;32m   1667\u001b[0m   \u001b[0;32mdef\u001b[0m \u001b[0m_call_flat\u001b[0m\u001b[0;34m(\u001b[0m\u001b[0mself\u001b[0m\u001b[0;34m,\u001b[0m \u001b[0margs\u001b[0m\u001b[0;34m,\u001b[0m \u001b[0mcaptured_inputs\u001b[0m\u001b[0;34m,\u001b[0m \u001b[0mcancellation_manager\u001b[0m\u001b[0;34m=\u001b[0m\u001b[0;32mNone\u001b[0m\u001b[0;34m)\u001b[0m\u001b[0;34m:\u001b[0m\u001b[0;34m\u001b[0m\u001b[0;34m\u001b[0m\u001b[0m\n",
            "\u001b[0;32m/usr/local/lib/python3.6/dist-packages/tensorflow/python/eager/function.py\u001b[0m in \u001b[0;36m_call_flat\u001b[0;34m(self, args, captured_inputs, cancellation_manager)\u001b[0m\n\u001b[1;32m   1744\u001b[0m       \u001b[0;31m# No tape is watching; skip to running the function.\u001b[0m\u001b[0;34m\u001b[0m\u001b[0;34m\u001b[0m\u001b[0;34m\u001b[0m\u001b[0m\n\u001b[1;32m   1745\u001b[0m       return self._build_call_outputs(self._inference_function.call(\n\u001b[0;32m-> 1746\u001b[0;31m           ctx, args, cancellation_manager=cancellation_manager))\n\u001b[0m\u001b[1;32m   1747\u001b[0m     forward_backward = self._select_forward_and_backward_functions(\n\u001b[1;32m   1748\u001b[0m         \u001b[0margs\u001b[0m\u001b[0;34m,\u001b[0m\u001b[0;34m\u001b[0m\u001b[0;34m\u001b[0m\u001b[0m\n",
            "\u001b[0;32m/usr/local/lib/python3.6/dist-packages/tensorflow/python/eager/function.py\u001b[0m in \u001b[0;36mcall\u001b[0;34m(self, ctx, args, cancellation_manager)\u001b[0m\n\u001b[1;32m    596\u001b[0m               \u001b[0minputs\u001b[0m\u001b[0;34m=\u001b[0m\u001b[0margs\u001b[0m\u001b[0;34m,\u001b[0m\u001b[0;34m\u001b[0m\u001b[0;34m\u001b[0m\u001b[0m\n\u001b[1;32m    597\u001b[0m               \u001b[0mattrs\u001b[0m\u001b[0;34m=\u001b[0m\u001b[0mattrs\u001b[0m\u001b[0;34m,\u001b[0m\u001b[0;34m\u001b[0m\u001b[0;34m\u001b[0m\u001b[0m\n\u001b[0;32m--> 598\u001b[0;31m               ctx=ctx)\n\u001b[0m\u001b[1;32m    599\u001b[0m         \u001b[0;32melse\u001b[0m\u001b[0;34m:\u001b[0m\u001b[0;34m\u001b[0m\u001b[0;34m\u001b[0m\u001b[0m\n\u001b[1;32m    600\u001b[0m           outputs = execute.execute_with_cancellation(\n",
            "\u001b[0;32m/usr/local/lib/python3.6/dist-packages/tensorflow/python/eager/execute.py\u001b[0m in \u001b[0;36mquick_execute\u001b[0;34m(op_name, num_outputs, inputs, attrs, ctx, name)\u001b[0m\n\u001b[1;32m     58\u001b[0m     \u001b[0mctx\u001b[0m\u001b[0;34m.\u001b[0m\u001b[0mensure_initialized\u001b[0m\u001b[0;34m(\u001b[0m\u001b[0;34m)\u001b[0m\u001b[0;34m\u001b[0m\u001b[0;34m\u001b[0m\u001b[0m\n\u001b[1;32m     59\u001b[0m     tensors = pywrap_tfe.TFE_Py_Execute(ctx._handle, device_name, op_name,\n\u001b[0;32m---> 60\u001b[0;31m                                         inputs, attrs, num_outputs)\n\u001b[0m\u001b[1;32m     61\u001b[0m   \u001b[0;32mexcept\u001b[0m \u001b[0mcore\u001b[0m\u001b[0;34m.\u001b[0m\u001b[0m_NotOkStatusException\u001b[0m \u001b[0;32mas\u001b[0m \u001b[0me\u001b[0m\u001b[0;34m:\u001b[0m\u001b[0;34m\u001b[0m\u001b[0;34m\u001b[0m\u001b[0m\n\u001b[1;32m     62\u001b[0m     \u001b[0;32mif\u001b[0m \u001b[0mname\u001b[0m \u001b[0;32mis\u001b[0m \u001b[0;32mnot\u001b[0m \u001b[0;32mNone\u001b[0m\u001b[0;34m:\u001b[0m\u001b[0;34m\u001b[0m\u001b[0;34m\u001b[0m\u001b[0m\n",
            "\u001b[0;31mKeyboardInterrupt\u001b[0m: "
          ]
        }
      ]
    },
    {
      "cell_type": "code",
      "metadata": {
        "id": "1qQScGlT7vFj",
        "colab_type": "code",
        "colab": {
          "base_uri": "https://localhost:8080/",
          "height": 541
        },
        "outputId": "b60e2c3b-c5df-4fe4-8134-991b1bbfa253"
      },
      "source": [
        "import matplotlib.pyplot as plt\n",
        "\n",
        "\n",
        "def plot_graphs(history, string):\n",
        "  plt.plot(history.history[string])\n",
        "  plt.plot(history.history['val_'+string])\n",
        "  plt.xlabel(\"Epochs\")\n",
        "  plt.ylabel(string)\n",
        "  plt.legend([string, 'val_'+string])\n",
        "  plt.show()\n",
        "  \n",
        "plot_graphs(history, \"accuracy\")\n",
        "plot_graphs(history, \"loss\")"
      ],
      "execution_count": 21,
      "outputs": [
        {
          "output_type": "display_data",
          "data": {
            "image/png": "[encoded data removed]",
            "text/plain": [
              "<Figure size 432x288 with 1 Axes>"
            ]
          },
          "metadata": {
            "tags": [],
            "needs_background": "light"
          }
        },
        {
          "output_type": "display_data",
          "data": {
            "image/png": "[encoded data removed]",
            "text/plain": [
              "<Figure size 432x288 with 1 Axes>"
            ]
          },
          "metadata": {
            "tags": [],
            "needs_background": "light"
          }
        }
      ]
    },
    {
      "cell_type": "code",
      "metadata": {
        "id": "ZmcdYGlDKZce",
        "colab_type": "code",
        "colab": {}
      },
      "source": [
        "loc = '/content/aclImdb/test/pos'\n",
        "os.chdir(loc)\n",
        "filelist = os.listdir()\n",
        "\n",
        "test_sentences_pos = []\n",
        "test_labels_pos = []\n",
        "\n",
        "for f in filelist:\n",
        "  with open (f, \"r\") as myfile:\n",
        "    test_labels_pos.append(1)\n",
        "    sentence = myfile.read()\n",
        "    for word in stopwords:\n",
        "            token = \" \" + word + \" \"\n",
        "            sentence = sentence.replace(token, \" \")\n",
        "            sentence = sentence.replace(\"  \", \" \")\n",
        "    test_sentences_pos.append(sentence)\n",
        "\n",
        "loc = '/content/aclImdb/train/neg'\n",
        "os.chdir(loc)\n",
        "filelist = os.listdir()\n",
        "\n",
        "test_sentences_neg = []\n",
        "test_labels_neg = []\n",
        "\n",
        "for f in filelist:\n",
        "  with open (f, \"r\") as myfile:\n",
        "    test_labels_neg.append(0)\n",
        "    sentence = myfile.read()\n",
        "    for word in stopwords:\n",
        "            token = \" \" + word + \" \"\n",
        "            sentence = sentence.replace(token, \" \")\n",
        "            sentence = sentence.replace(\"  \", \" \")\n",
        "    test_sentences_neg.append(sentence)"
      ],
      "execution_count": 0,
      "outputs": []
    },
    {
      "cell_type": "code",
      "metadata": {
        "id": "fRcDYkM0LQnz",
        "colab_type": "code",
        "colab": {}
      },
      "source": [
        "test_sentences = test_sentences_pos + test_sentences_neg\n",
        "test_labels = test_labels_pos + test_labels_neg\n",
        "\n",
        "denoised_test_sentences = []\n",
        "\n",
        "for sentence in test_sentences:\n",
        "  denoised_test_sentences.append(preprocess(sentence))\n",
        "\n",
        "dataframe_test = pd.DataFrame(\n",
        "    {'sentences': denoised_test_sentences,\n",
        "     'labels': test_labels,\n",
        "    })"
      ],
      "execution_count": 0,
      "outputs": []
    },
    {
      "cell_type": "code",
      "metadata": {
        "id": "vW7KxWGRPRwm",
        "colab_type": "code",
        "colab": {}
      },
      "source": [
        "dataframe_test = shuffle(dataframe_test).reset_index(drop=True)"
      ],
      "execution_count": 0,
      "outputs": []
    },
    {
      "cell_type": "code",
      "metadata": {
        "id": "uBPykKaTPVyx",
        "colab_type": "code",
        "colab": {}
      },
      "source": [
        "test_sentences = dataframe_test['sentences']\n",
        "test_labels = dataframe_test['labels']"
      ],
      "execution_count": 0,
      "outputs": []
    },
    {
      "cell_type": "code",
      "metadata": {
        "id": "gb_N4GSkPgjq",
        "colab_type": "code",
        "colab": {}
      },
      "source": [
        "test_sequences = tokenizer.texts_to_sequences(test_sentences)\n",
        "test_padded = pad_sequences(test_sequences, padding=padding_type, maxlen=max_length)"
      ],
      "execution_count": 0,
      "outputs": []
    },
    {
      "cell_type": "code",
      "metadata": {
        "id": "ots_PADcP6X9",
        "colab_type": "code",
        "colab": {
          "base_uri": "https://localhost:8080/",
          "height": 72
        },
        "outputId": "88126a49-3ff6-41e2-bc93-a406a846105e"
      },
      "source": [
        "test_loss, test_acc = model.evaluate(test_padded, test_labels)\n",
        "print('Test loss:', test_loss)\n",
        "print('Test accuracy:', test_acc)"
      ],
      "execution_count": 36,
      "outputs": [
        {
          "output_type": "stream",
          "text": [
            "782/782 [==============================] - 5s 7ms/step - loss: 0.3349 - accuracy: 0.8840\n",
            "Test loss: 0.3349135220050812\n",
            "Test accuracy: 0.8839600086212158\n"
          ],
          "name": "stdout"
        }
      ]
    },
    {
      "cell_type": "code",
      "metadata": {
        "id": "VHGCDVSwIjsG",
        "colab_type": "code",
        "colab": {}
      },
      "source": [
        ""
      ],
      "execution_count": 0,
      "outputs": []
    }
  ]
}